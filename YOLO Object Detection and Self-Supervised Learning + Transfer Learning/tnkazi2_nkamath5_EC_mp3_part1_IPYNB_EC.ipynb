{
  "nbformat": 4,
  "nbformat_minor": 0,
  "metadata": {
    "colab": {
      "provenance": []
    },
    "kernelspec": {
      "name": "python3",
      "display_name": "Python 3"
    },
    "language_info": {
      "name": "python"
    },
    "accelerator": "GPU",
    "gpuClass": "standard"
  },
  "cells": [
    {
      "cell_type": "markdown",
      "source": [
        "# (Optional) Colab Setup\n",
        "If you aren't using Colab, you can delete the following code cell. This is just to help students with mounting to Google Drive to access the other .py files and downloading the data, which is a little trickier on Colab than on your local machine using Jupyter. "
      ],
      "metadata": {
        "id": "IWMWW8Ab_345"
      }
    },
    {
      "cell_type": "code",
      "source": [
        "# you will be prompted with a window asking to grant permissions\n",
        "from google.colab import drive\n",
        "drive.mount(\"/content/drive\")"
      ],
      "metadata": {
        "id": "vH4wc4iD_6w_",
        "colab": {
          "base_uri": "https://localhost:8080/"
        },
        "outputId": "7263af36-e674-445c-8215-c76a29393093"
      },
      "execution_count": 2,
      "outputs": [
        {
          "output_type": "stream",
          "name": "stdout",
          "text": [
            "Mounted at /content/drive\n"
          ]
        }
      ]
    },
    {
      "cell_type": "code",
      "source": [
        "# fill in the path in your Google Drive in the string below. Note: do not escape slashes or spaces\n",
        "import os\n",
        "datadir = \"/content/assignment3\"\n",
        "if not os.path.exists(datadir):\n",
        "  !ln -s \"/content/drive/MyDrive/assignment3_starter\" $datadir # TODO: Fill your A3 path\n",
        "  datadir = \"/content/drive/MyDrive/assignment3_starter\"\n",
        "os.chdir(datadir)\n",
        "!pwd"
      ],
      "metadata": {
        "id": "XpNsPHZc_879",
        "colab": {
          "base_uri": "https://localhost:8080/"
        },
        "outputId": "37b7d945-376b-4e01-8fef-e2f04a4452a2"
      },
      "execution_count": 3,
      "outputs": [
        {
          "output_type": "stream",
          "name": "stdout",
          "text": [
            "/content/drive/.shortcut-targets-by-id/1C6vzFdqC8Hjc1SzmCGHlAtkpvu5roImn/assignment3_starter\n"
          ]
        }
      ]
    },
    {
      "cell_type": "markdown",
      "source": [
        "#Data Setup\n",
        "\n",
        "The first thing to do is implement a dataset class to load rotated CIFAR10 images with matching labels. Since there is already a CIFAR10 dataset class implemented in `torchvision`, we will extend this class and modify the `__get_item__` method appropriately to load rotated images.\n",
        "\n",
        "Each rotation label should be an integer in the set {0, 1, 2, 3} which correspond to rotations of 0, 90, 180, or 270 degrees respectively."
      ],
      "metadata": {
        "id": "Um5DJvBwb6xT"
      }
    },
    {
      "cell_type": "code",
      "source": [
        "import torch\n",
        "import torchvision\n",
        "import torchvision.transforms as transforms\n",
        "import numpy as np\n",
        "import random\n",
        "\n",
        "\n",
        "def rotate_img(img, rot):\n",
        "    if rot == 0: # 0 degrees rotation\n",
        "        return img\n",
        "    # TODO: Implement rotate_img() - return the rotated img\n",
        "    elif rot == 1 or 2 or 3: # 90, 180 or 270 degrees rotation counter-clockwise\n",
        "        return transforms.functional.rotate(img=img, angle=(rot*90))\n",
        "    # End TODO\n",
        "    else:\n",
        "        raise ValueError('rotation should be 0, 90, 180, or 270 degrees')\n",
        "\n",
        "\n",
        "class CIFAR10Rotation(torchvision.datasets.CIFAR10):\n",
        "\n",
        "    def __init__(self, root, train, download, transform) -> None:\n",
        "        super().__init__(root=root, train=train, download=download, transform=transform)\n",
        "    \n",
        "    def __len__(self):\n",
        "        return len(self.data)\n",
        "    \n",
        "    def __getitem__(self, index: int):\n",
        "        image, cls_label = super().__getitem__(index)\n",
        "\n",
        "        # randomly select image rotation\n",
        "        rotation_label = random.choice([0, 1, 2, 3])\n",
        "        image_rotated = rotate_img(image, rotation_label)\n",
        "\n",
        "        rotation_label = torch.tensor(rotation_label).long()\n",
        "        return image, image_rotated, rotation_label, torch.tensor(cls_label).long()"
      ],
      "metadata": {
        "id": "oHkeNUOKiFbP"
      },
      "execution_count": 4,
      "outputs": []
    },
    {
      "cell_type": "code",
      "source": [
        "transform_train = transforms.Compose([\n",
        "    transforms.RandomCrop(32, padding=4),\n",
        "    transforms.RandomHorizontalFlip(),\n",
        "    transforms.ToTensor(),\n",
        "    transforms.Normalize((0.4914, 0.4822, 0.4465), (0.2023, 0.1994, 0.2010)),\n",
        "])\n",
        "\n",
        "transform_test = transforms.Compose([\n",
        "    transforms.ToTensor(),\n",
        "    transforms.Normalize((0.4914, 0.4822, 0.4465), (0.2023, 0.1994, 0.2010)),\n",
        "])\n",
        "\n",
        "batch_size = 128\n",
        "\n",
        "trainset = CIFAR10Rotation(root='./data', train=True,\n",
        "                                        download=True, transform=transform_train)\n",
        "trainloader = torch.utils.data.DataLoader(trainset, batch_size=batch_size,\n",
        "                                          shuffle=True, num_workers=2)\n",
        "\n",
        "testset = CIFAR10Rotation(root='./data', train=False,\n",
        "                                       download=True, transform=transform_test)\n",
        "testloader = torch.utils.data.DataLoader(testset, batch_size=batch_size,\n",
        "                                         shuffle=False, num_workers=2)"
      ],
      "metadata": {
        "id": "CCBSpNWpb8uw",
        "colab": {
          "base_uri": "https://localhost:8080/"
        },
        "outputId": "72508118-e017-4384-cb89-3da6066b9462"
      },
      "execution_count": 5,
      "outputs": [
        {
          "output_type": "stream",
          "name": "stdout",
          "text": [
            "Files already downloaded and verified\n",
            "Files already downloaded and verified\n"
          ]
        }
      ]
    },
    {
      "cell_type": "markdown",
      "source": [
        "Show some example images and rotated images with labels:"
      ],
      "metadata": {
        "id": "dOCWMyGhVOJB"
      }
    },
    {
      "cell_type": "code",
      "source": [
        "import matplotlib.pyplot as plt\n",
        "\n",
        "classes = ('plane', 'car', 'bird', 'cat',\n",
        "           'deer', 'dog', 'frog', 'horse', 'ship', 'truck')\n",
        "\n",
        "rot_classes = ('0', '90', '180', '270')\n",
        "\n",
        "\n",
        "def imshow(img):\n",
        "    # unnormalize\n",
        "    img = transforms.Normalize((0, 0, 0), (1/0.2023, 1/0.1994, 1/0.2010))(img)\n",
        "    img = transforms.Normalize((-0.4914, -0.4822, -0.4465), (1, 1, 1))(img)\n",
        "    npimg = img.numpy()\n",
        "    plt.imshow(np.transpose(npimg, (1, 2, 0)))\n",
        "    plt.show()\n",
        "\n",
        "\n",
        "dataiter = iter(trainloader)\n",
        "images, rot_images, rot_labels, labels = next(dataiter)\n",
        "\n",
        "# print images and rotated images\n",
        "img_grid = imshow(torchvision.utils.make_grid(images[:4], padding=0))\n",
        "print('Class labels: ', ' '.join(f'{classes[labels[j]]:5s}' for j in range(4)))\n",
        "img_grid = imshow(torchvision.utils.make_grid(rot_images[:4], padding=0))\n",
        "print('Rotation labels: ', ' '.join(f'{rot_classes[rot_labels[j]]:5s}' for j in range(4)))"
      ],
      "metadata": {
        "id": "A9wN4BJWVMzB",
        "colab": {
          "base_uri": "https://localhost:8080/",
          "height": 448
        },
        "outputId": "1dd8b8b5-8491-478f-b133-2a71c7e52cf9"
      },
      "execution_count": 6,
      "outputs": [
        {
          "output_type": "stream",
          "name": "stderr",
          "text": [
            "WARNING:matplotlib.image:Clipping input data to the valid range for imshow with RGB data ([0..1] for floats or [0..255] for integers).\n"
          ]
        },
        {
          "output_type": "display_data",
          "data": {
            "text/plain": [
              "<Figure size 640x480 with 1 Axes>"
            ],
            "image/png": "[encoded data removed]"
          },
          "metadata": {}
        },
        {
          "output_type": "stream",
          "name": "stderr",
          "text": [
            "WARNING:matplotlib.image:Clipping input data to the valid range for imshow with RGB data ([0..1] for floats or [0..255] for integers).\n"
          ]
        },
        {
          "output_type": "stream",
          "name": "stdout",
          "text": [
            "Class labels:  horse deer  plane bird \n"
          ]
        },
        {
          "output_type": "display_data",
          "data": {
            "text/plain": [
              "<Figure size 640x480 with 1 Axes>"
            ],
            "image/png": "[encoded data removed]"
          },
          "metadata": {}
        },
        {
          "output_type": "stream",
          "name": "stdout",
          "text": [
            "Rotation labels:  180   0     0     180  \n"
          ]
        }
      ]
    },
    {
      "cell_type": "markdown",
      "source": [
        "#Evaluation code"
      ],
      "metadata": {
        "id": "unCucbHexG4W"
      }
    },
    {
      "cell_type": "code",
      "source": [
        "import time\n",
        "\n",
        "def run_test(net, testloader, criterion, task):\n",
        "    correct = 0\n",
        "    total = 0\n",
        "    avg_test_loss = 0.0\n",
        "    # since we're not training, we don't need to calculate the gradients for our outputs\n",
        "    with torch.no_grad():\n",
        "        for images, images_rotated, labels, cls_labels in testloader:\n",
        "            if task == 'rotation':\n",
        "              images, labels = images_rotated.to(device), labels.to(device)\n",
        "            elif task == 'classification':\n",
        "              images, labels = images.to(device), cls_labels.to(device)\n",
        "            # TODO: Calculate outputs by running images through the network\n",
        "            # The class with the highest energy is what we choose as prediction\n",
        "            outputs = net(images)\n",
        "            predictions = outputs.squeeze(0).softmax(1).argmax(dim=1)\n",
        "            batch_correct = torch.sum(predictions == labels)\n",
        "            correct += batch_correct\n",
        "            total += predictions.shape[0]\n",
        "            # End TODO\n",
        "\n",
        "            # loss\n",
        "            avg_test_loss += criterion(outputs, labels)  / len(testloader)\n",
        "    \n",
        "    print('TESTING:')\n",
        "    print(f'Accuracy of the network on the 10000 test images: {100 * correct / total:.2f} %')\n",
        "    print(f'Average loss on the 10000 test images: {avg_test_loss:.3f}')"
      ],
      "metadata": {
        "id": "pptQRpqK0rOl"
      },
      "execution_count": 7,
      "outputs": []
    },
    {
      "cell_type": "code",
      "source": [
        "def adjust_learning_rate(optimizer, epoch, init_lr, decay_epochs=30):\n",
        "    \"\"\"Sets the learning rate to the initial LR decayed by 10 every 30 epochs\"\"\"\n",
        "    lr = init_lr * (0.1 ** (epoch // decay_epochs))\n",
        "    for param_group in optimizer.param_groups:\n",
        "        param_group['lr'] = lr"
      ],
      "metadata": {
        "id": "hf698c16A9k5"
      },
      "execution_count": 8,
      "outputs": []
    },
    {
      "cell_type": "markdown",
      "source": [
        "#Train a resnet50 on the rotation task\n",
        "\n",
        "In this section, we will train a resnet50 model on the rotation task. The input is a rotated image and the model predicts the rotation label. See the Data Setup section for details."
      ],
      "metadata": {
        "id": "3lYdnb1Wsta_"
      }
    },
    {
      "cell_type": "code",
      "source": [
        "device = 'cuda' if torch.cuda.is_available() else 'cpu'\n",
        "device"
      ],
      "metadata": {
        "id": "knAiwdURvBHk",
        "colab": {
          "base_uri": "https://localhost:8080/",
          "height": 35
        },
        "outputId": "a55f1891-dd2a-4f88-bdb9-e17604fb243d"
      },
      "execution_count": 9,
      "outputs": [
        {
          "output_type": "execute_result",
          "data": {
            "text/plain": [
              "'cuda'"
            ],
            "application/vnd.google.colaboratory.intrinsic+json": {
              "type": "string"
            }
          },
          "metadata": {},
          "execution_count": 9
        }
      ]
    },
    {
      "cell_type": "code",
      "source": [
        "import torch.nn as nn\n",
        "import torch.nn.functional as F\n",
        "\n",
        "from torchvision.models import resnet50\n",
        "\n",
        "net = resnet50(num_classes=4)\n",
        "net = net.to(device)"
      ],
      "metadata": {
        "id": "235MEIUgsv65"
      },
      "execution_count": 10,
      "outputs": []
    },
    {
      "cell_type": "code",
      "source": [
        "import torch.optim as optim\n",
        "criterion = nn.CrossEntropyLoss()\n",
        "optimizer = optim.Adam(net.parameters(), lr = 0.01) \n",
        "# Which to choose?? Are we free to choose what we like?\n",
        "\n",
        "# TODO: Define criterion and optimizer\n"
      ],
      "metadata": {
        "id": "Vuhiw0ZoszAd"
      },
      "execution_count": 11,
      "outputs": []
    },
    {
      "cell_type": "code",
      "source": [
        "# Both the self-supervised rotation task and supervised CIFAR10 classification are\n",
        "# trained with the CrossEntropyLoss, so we can use the training loop code.\n",
        "\n",
        "def train(net, criterion, optimizer, num_epochs, decay_epochs, init_lr, task):\n",
        "\n",
        "    for epoch in range(num_epochs):  # loop over the dataset multiple times\n",
        "\n",
        "        running_loss = 0.0\n",
        "        running_correct = 0.0\n",
        "        running_total = 0.0\n",
        "        start_time = time.time()\n",
        "\n",
        "        net.train()\n",
        "\n",
        "        for i, (imgs, imgs_rotated, rotation_label, cls_label) in enumerate(trainloader, 0):\n",
        "            adjust_learning_rate(optimizer, epoch, init_lr, decay_epochs)\n",
        "\n",
        "            # TODO: Set the data to the correct device; Different task will use different inputs and labels\n",
        "            if task == 'rotation': \n",
        "                images, labels = imgs_rotated.to(device), rotation_label.to(device)\n",
        "            elif task == 'classification':\n",
        "                images, labels = imgs.to(device), cls_label.to(device)\n",
        "            else:\n",
        "                raise ValueError('Task should either be classification or rotation')\n",
        "\n",
        "            # TODO: Zero the parameter gradients\n",
        "            net.zero_grad()\n",
        "\n",
        "            # TODO: forward + backward + optimize\n",
        "            outputs = net(images) # forward\n",
        "            loss = criterion(outputs, labels) # loss calc\n",
        "            loss.backward() # backward pass\n",
        "            optimizer.step() # optimize\n",
        "\n",
        "            # TODO: Get predicted results\n",
        "            predicted = outputs.squeeze(0).softmax(1).argmax(dim=1)\n",
        "\n",
        "            # print statistics\n",
        "            print_freq = 100\n",
        "            running_loss += loss.item()\n",
        "\n",
        "            # calc acc\n",
        "            running_total += labels.size(0)\n",
        "            running_correct += (predicted == labels).sum().item()\n",
        "\n",
        "            if i % print_freq == (print_freq - 1):    # print every 2000 mini-batches\n",
        "                print(f'[{epoch + 1}, {i + 1:5d}] loss: {running_loss / print_freq:.3f} acc: {100*running_correct / running_total:.2f} time: {time.time() - start_time:.2f}')\n",
        "                running_loss, running_correct, running_total = 0.0, 0.0, 0.0\n",
        "                start_time = time.time()\n",
        "\n",
        "        # TODO: Run the run_test() function after each epoch; Set the model to the evaluation mode.\n",
        "        net.eval()\n",
        "        run_test(net, testloader, criterion, task)\n",
        "        # ENd of TODO\n",
        "\n",
        "    print('Finished Training')"
      ],
      "metadata": {
        "id": "WleH-YBgs0rq"
      },
      "execution_count": 12,
      "outputs": []
    },
    {
      "cell_type": "code",
      "source": [
        "train(net, criterion, optimizer, num_epochs=45, decay_epochs=5, init_lr=0.05, task='rotation')\n",
        "\n",
        "# TODO: Save the model\n",
        "torch.save(net.state_dict(), '/content/drive/MyDrive/assignment3_starter/resnet50_weights')"
      ],
      "metadata": {
        "id": "2u4AsfAKtaQS",
        "colab": {
          "base_uri": "https://localhost:8080/"
        },
        "outputId": "4b1e98cd-afc2-4eb0-9cbd-f91cc515e598"
      },
      "execution_count": 14,
      "outputs": [
        {
          "output_type": "stream",
          "name": "stdout",
          "text": [
            "[1,   100] loss: 3.921 acc: 29.80 time: 11.60\n",
            "[1,   200] loss: 4.087 acc: 25.09 time: 9.29\n",
            "[1,   300] loss: 2.254 acc: 25.98 time: 10.98\n",
            "TESTING:\n",
            "Accuracy of the network on the 10000 test images: 28.26 %\n",
            "Average loss on the 10000 test images: 1.579\n",
            "[2,   100] loss: 1.479 acc: 27.06 time: 11.08\n",
            "[2,   200] loss: 1.468 acc: 28.63 time: 10.36\n",
            "[2,   300] loss: 1.419 acc: 30.71 time: 10.04\n",
            "TESTING:\n",
            "Accuracy of the network on the 10000 test images: 33.79 %\n",
            "Average loss on the 10000 test images: 1.378\n",
            "[3,   100] loss: 1.389 acc: 31.80 time: 11.32\n",
            "[3,   200] loss: 1.384 acc: 31.87 time: 10.99\n",
            "[3,   300] loss: 1.375 acc: 32.75 time: 9.38\n",
            "TESTING:\n",
            "Accuracy of the network on the 10000 test images: 33.69 %\n",
            "Average loss on the 10000 test images: 1.404\n",
            "[4,   100] loss: 1.358 acc: 32.98 time: 10.97\n",
            "[4,   200] loss: 1.353 acc: 33.05 time: 11.09\n",
            "[4,   300] loss: 1.350 acc: 34.16 time: 11.11\n",
            "TESTING:\n",
            "Accuracy of the network on the 10000 test images: 36.08 %\n",
            "Average loss on the 10000 test images: 1.411\n",
            "[5,   100] loss: 1.335 acc: 34.94 time: 9.52\n",
            "[5,   200] loss: 1.323 acc: 35.54 time: 10.94\n",
            "[5,   300] loss: 1.324 acc: 35.91 time: 11.00\n",
            "TESTING:\n",
            "Accuracy of the network on the 10000 test images: 35.92 %\n",
            "Average loss on the 10000 test images: 1.680\n",
            "[6,   100] loss: 1.301 acc: 36.68 time: 11.10\n",
            "[6,   200] loss: 1.297 acc: 36.77 time: 9.58\n",
            "[6,   300] loss: 1.290 acc: 37.19 time: 11.10\n",
            "TESTING:\n",
            "Accuracy of the network on the 10000 test images: 38.03 %\n",
            "Average loss on the 10000 test images: 2.194\n",
            "[7,   100] loss: 1.288 acc: 37.38 time: 11.14\n",
            "[7,   200] loss: 1.279 acc: 37.91 time: 9.88\n",
            "[7,   300] loss: 1.276 acc: 38.55 time: 10.32\n",
            "TESTING:\n",
            "Accuracy of the network on the 10000 test images: 38.60 %\n",
            "Average loss on the 10000 test images: 2.163\n",
            "[8,   100] loss: 1.271 acc: 38.06 time: 11.38\n",
            "[8,   200] loss: 1.276 acc: 37.69 time: 10.86\n",
            "[8,   300] loss: 1.277 acc: 37.78 time: 9.20\n",
            "TESTING:\n",
            "Accuracy of the network on the 10000 test images: 39.22 %\n",
            "Average loss on the 10000 test images: 3.306\n",
            "[9,   100] loss: 1.272 acc: 37.59 time: 11.23\n",
            "[9,   200] loss: 1.265 acc: 37.76 time: 11.13\n",
            "[9,   300] loss: 1.260 acc: 38.89 time: 10.21\n",
            "TESTING:\n",
            "Accuracy of the network on the 10000 test images: 39.73 %\n",
            "Average loss on the 10000 test images: 2.089\n",
            "[10,   100] loss: 1.260 acc: 38.38 time: 9.90\n",
            "[10,   200] loss: 1.263 acc: 38.37 time: 10.79\n",
            "[10,   300] loss: 1.259 acc: 38.98 time: 10.87\n",
            "TESTING:\n",
            "Accuracy of the network on the 10000 test images: 39.58 %\n",
            "Average loss on the 10000 test images: 1.533\n",
            "[11,   100] loss: 1.254 acc: 38.67 time: 10.35\n",
            "[11,   200] loss: 1.258 acc: 38.38 time: 10.20\n",
            "[11,   300] loss: 1.260 acc: 38.52 time: 10.98\n",
            "TESTING:\n",
            "Accuracy of the network on the 10000 test images: 40.11 %\n",
            "Average loss on the 10000 test images: 1.413\n",
            "[12,   100] loss: 1.250 acc: 39.98 time: 11.19\n",
            "[12,   200] loss: 1.258 acc: 38.60 time: 9.21\n",
            "[12,   300] loss: 1.251 acc: 38.50 time: 10.92\n",
            "TESTING:\n",
            "Accuracy of the network on the 10000 test images: 40.71 %\n",
            "Average loss on the 10000 test images: 2.195\n",
            "[13,   100] loss: 1.258 acc: 38.16 time: 11.23\n",
            "[13,   200] loss: 1.253 acc: 38.39 time: 10.23\n",
            "[13,   300] loss: 1.252 acc: 38.69 time: 9.60\n",
            "TESTING:\n",
            "Accuracy of the network on the 10000 test images: 40.32 %\n",
            "Average loss on the 10000 test images: 3.448\n",
            "[14,   100] loss: 1.252 acc: 38.91 time: 11.12\n",
            "[14,   200] loss: 1.255 acc: 38.75 time: 10.94\n",
            "[14,   300] loss: 1.253 acc: 38.99 time: 9.12\n",
            "TESTING:\n",
            "Accuracy of the network on the 10000 test images: 40.17 %\n",
            "Average loss on the 10000 test images: 1.999\n",
            "[15,   100] loss: 1.252 acc: 39.19 time: 11.01\n",
            "[15,   200] loss: 1.249 acc: 39.28 time: 10.71\n",
            "[15,   300] loss: 1.246 acc: 39.29 time: 10.00\n",
            "TESTING:\n",
            "Accuracy of the network on the 10000 test images: 40.61 %\n",
            "Average loss on the 10000 test images: 4.303\n",
            "[16,   100] loss: 1.241 acc: 39.91 time: 10.02\n",
            "[16,   200] loss: 1.254 acc: 39.15 time: 10.97\n",
            "[16,   300] loss: 1.258 acc: 39.12 time: 10.73\n",
            "TESTING:\n",
            "Accuracy of the network on the 10000 test images: 41.21 %\n",
            "Average loss on the 10000 test images: 1.922\n",
            "[17,   100] loss: 1.255 acc: 38.90 time: 9.47\n",
            "[17,   200] loss: 1.247 acc: 39.31 time: 10.65\n",
            "[17,   300] loss: 1.249 acc: 38.53 time: 10.85\n",
            "TESTING:\n",
            "Accuracy of the network on the 10000 test images: 41.16 %\n",
            "Average loss on the 10000 test images: 1.855\n",
            "[18,   100] loss: 1.249 acc: 39.11 time: 11.00\n",
            "[18,   200] loss: 1.259 acc: 38.71 time: 9.14\n",
            "[18,   300] loss: 1.248 acc: 39.30 time: 10.76\n",
            "TESTING:\n",
            "Accuracy of the network on the 10000 test images: 40.94 %\n",
            "Average loss on the 10000 test images: 4.275\n",
            "[19,   100] loss: 1.249 acc: 39.38 time: 11.02\n",
            "[19,   200] loss: 1.253 acc: 39.16 time: 9.52\n",
            "[19,   300] loss: 1.252 acc: 39.01 time: 10.45\n",
            "TESTING:\n",
            "Accuracy of the network on the 10000 test images: 40.31 %\n",
            "Average loss on the 10000 test images: 2.649\n",
            "[20,   100] loss: 1.247 acc: 39.31 time: 11.06\n",
            "[20,   200] loss: 1.251 acc: 39.73 time: 10.51\n",
            "[20,   300] loss: 1.249 acc: 38.89 time: 9.36\n",
            "TESTING:\n",
            "Accuracy of the network on the 10000 test images: 40.26 %\n",
            "Average loss on the 10000 test images: 2.179\n",
            "[21,   100] loss: 1.253 acc: 39.54 time: 11.15\n",
            "[21,   200] loss: 1.247 acc: 39.36 time: 10.86\n",
            "[21,   300] loss: 1.246 acc: 39.23 time: 9.24\n",
            "TESTING:\n",
            "Accuracy of the network on the 10000 test images: 41.70 %\n",
            "Average loss on the 10000 test images: 2.161\n",
            "[22,   100] loss: 1.249 acc: 39.90 time: 10.68\n",
            "[22,   200] loss: 1.256 acc: 38.68 time: 10.80\n",
            "[22,   300] loss: 1.255 acc: 38.81 time: 10.32\n",
            "TESTING:\n",
            "Accuracy of the network on the 10000 test images: 40.87 %\n",
            "Average loss on the 10000 test images: 2.448\n",
            "[23,   100] loss: 1.255 acc: 38.74 time: 9.63\n",
            "[23,   200] loss: 1.249 acc: 39.30 time: 10.75\n",
            "[23,   300] loss: 1.255 acc: 38.62 time: 10.65\n",
            "TESTING:\n",
            "Accuracy of the network on the 10000 test images: 41.25 %\n",
            "Average loss on the 10000 test images: 1.633\n",
            "[24,   100] loss: 1.251 acc: 39.29 time: 9.46\n",
            "[24,   200] loss: 1.250 acc: 39.05 time: 10.54\n",
            "[24,   300] loss: 1.246 acc: 39.30 time: 10.80\n",
            "TESTING:\n",
            "Accuracy of the network on the 10000 test images: 40.65 %\n",
            "Average loss on the 10000 test images: 1.845\n",
            "[25,   100] loss: 1.252 acc: 38.59 time: 10.41\n",
            "[25,   200] loss: 1.256 acc: 38.62 time: 9.48\n",
            "[25,   300] loss: 1.248 acc: 39.41 time: 10.70\n",
            "TESTING:\n",
            "Accuracy of the network on the 10000 test images: 40.55 %\n",
            "Average loss on the 10000 test images: 2.534\n",
            "[26,   100] loss: 1.250 acc: 39.27 time: 11.03\n",
            "[26,   200] loss: 1.254 acc: 38.75 time: 9.01\n",
            "[26,   300] loss: 1.244 acc: 39.70 time: 10.83\n",
            "TESTING:\n",
            "Accuracy of the network on the 10000 test images: 41.29 %\n",
            "Average loss on the 10000 test images: 1.878\n",
            "[27,   100] loss: 1.256 acc: 37.99 time: 11.11\n",
            "[27,   200] loss: 1.252 acc: 39.24 time: 9.80\n",
            "[27,   300] loss: 1.247 acc: 39.19 time: 10.13\n",
            "TESTING:\n",
            "Accuracy of the network on the 10000 test images: 40.93 %\n",
            "Average loss on the 10000 test images: 2.558\n",
            "[28,   100] loss: 1.249 acc: 39.21 time: 10.98\n",
            "[28,   200] loss: 1.244 acc: 40.23 time: 10.32\n",
            "[28,   300] loss: 1.252 acc: 38.95 time: 9.38\n",
            "TESTING:\n",
            "Accuracy of the network on the 10000 test images: 41.24 %\n",
            "Average loss on the 10000 test images: 1.717\n",
            "[29,   100] loss: 1.248 acc: 38.98 time: 11.09\n",
            "[29,   200] loss: 1.245 acc: 39.68 time: 10.81\n",
            "[29,   300] loss: 1.243 acc: 39.20 time: 9.03\n",
            "TESTING:\n",
            "Accuracy of the network on the 10000 test images: 40.62 %\n",
            "Average loss on the 10000 test images: 1.802\n",
            "[30,   100] loss: 1.254 acc: 39.16 time: 11.09\n",
            "[30,   200] loss: 1.250 acc: 39.23 time: 10.58\n",
            "[30,   300] loss: 1.247 acc: 39.67 time: 9.95\n",
            "TESTING:\n",
            "Accuracy of the network on the 10000 test images: 41.00 %\n",
            "Average loss on the 10000 test images: 1.878\n",
            "[31,   100] loss: 1.241 acc: 39.41 time: 10.18\n",
            "[31,   200] loss: 1.244 acc: 39.46 time: 10.89\n",
            "[31,   300] loss: 1.249 acc: 39.55 time: 10.74\n",
            "TESTING:\n",
            "Accuracy of the network on the 10000 test images: 41.04 %\n",
            "Average loss on the 10000 test images: 2.217\n",
            "[32,   100] loss: 1.255 acc: 39.07 time: 9.33\n",
            "[32,   200] loss: 1.251 acc: 39.27 time: 10.81\n",
            "[32,   300] loss: 1.256 acc: 38.20 time: 11.00\n",
            "TESTING:\n",
            "Accuracy of the network on the 10000 test images: 41.76 %\n",
            "Average loss on the 10000 test images: 2.927\n",
            "[33,   100] loss: 1.252 acc: 39.03 time: 10.73\n",
            "[33,   200] loss: 1.247 acc: 38.95 time: 9.35\n",
            "[33,   300] loss: 1.247 acc: 39.57 time: 10.67\n",
            "TESTING:\n",
            "Accuracy of the network on the 10000 test images: 40.55 %\n",
            "Average loss on the 10000 test images: 2.862\n",
            "[34,   100] loss: 1.252 acc: 39.07 time: 11.11\n",
            "[34,   200] loss: 1.255 acc: 38.35 time: 9.08\n",
            "[34,   300] loss: 1.246 acc: 39.63 time: 11.20\n",
            "TESTING:\n",
            "Accuracy of the network on the 10000 test images: 40.27 %\n",
            "Average loss on the 10000 test images: 2.861\n",
            "[35,   100] loss: 1.254 acc: 38.77 time: 10.94\n",
            "[35,   200] loss: 1.254 acc: 38.59 time: 9.80\n",
            "[35,   300] loss: 1.247 acc: 38.87 time: 9.91\n",
            "TESTING:\n",
            "Accuracy of the network on the 10000 test images: 41.08 %\n",
            "Average loss on the 10000 test images: 3.073\n",
            "[36,   100] loss: 1.241 acc: 39.97 time: 11.03\n",
            "[36,   200] loss: 1.256 acc: 38.65 time: 10.71\n",
            "[36,   300] loss: 1.254 acc: 39.07 time: 9.27\n",
            "TESTING:\n",
            "Accuracy of the network on the 10000 test images: 41.24 %\n",
            "Average loss on the 10000 test images: 1.737\n",
            "[37,   100] loss: 1.247 acc: 39.17 time: 10.85\n",
            "[37,   200] loss: 1.252 acc: 38.54 time: 10.61\n",
            "[37,   300] loss: 1.252 acc: 39.03 time: 9.05\n",
            "TESTING:\n",
            "Accuracy of the network on the 10000 test images: 40.71 %\n",
            "Average loss on the 10000 test images: 2.840\n",
            "[38,   100] loss: 1.252 acc: 38.75 time: 11.01\n",
            "[38,   200] loss: 1.249 acc: 38.80 time: 10.54\n",
            "[38,   300] loss: 1.252 acc: 38.23 time: 10.08\n",
            "TESTING:\n",
            "Accuracy of the network on the 10000 test images: 40.81 %\n",
            "Average loss on the 10000 test images: 1.978\n",
            "[39,   100] loss: 1.254 acc: 39.19 time: 10.02\n",
            "[39,   200] loss: 1.243 acc: 39.63 time: 10.69\n",
            "[39,   300] loss: 1.249 acc: 39.02 time: 10.77\n",
            "TESTING:\n",
            "Accuracy of the network on the 10000 test images: 40.71 %\n",
            "Average loss on the 10000 test images: 1.696\n",
            "[40,   100] loss: 1.251 acc: 39.22 time: 9.18\n",
            "[40,   200] loss: 1.243 acc: 39.23 time: 10.47\n",
            "[40,   300] loss: 1.252 acc: 38.30 time: 10.91\n",
            "TESTING:\n",
            "Accuracy of the network on the 10000 test images: 41.33 %\n",
            "Average loss on the 10000 test images: 2.064\n",
            "[41,   100] loss: 1.251 acc: 39.29 time: 10.58\n",
            "[41,   200] loss: 1.247 acc: 39.77 time: 9.79\n",
            "[41,   300] loss: 1.256 acc: 38.88 time: 10.88\n",
            "TESTING:\n",
            "Accuracy of the network on the 10000 test images: 41.44 %\n",
            "Average loss on the 10000 test images: 2.364\n",
            "[42,   100] loss: 1.244 acc: 39.56 time: 10.96\n",
            "[42,   200] loss: 1.243 acc: 40.33 time: 9.05\n",
            "[42,   300] loss: 1.247 acc: 39.12 time: 10.93\n",
            "TESTING:\n",
            "Accuracy of the network on the 10000 test images: 40.74 %\n",
            "Average loss on the 10000 test images: 2.534\n",
            "[43,   100] loss: 1.255 acc: 38.93 time: 10.95\n",
            "[43,   200] loss: 1.244 acc: 40.09 time: 9.76\n",
            "[43,   300] loss: 1.248 acc: 39.48 time: 9.98\n",
            "TESTING:\n",
            "Accuracy of the network on the 10000 test images: 40.83 %\n",
            "Average loss on the 10000 test images: 1.509\n",
            "[44,   100] loss: 1.251 acc: 38.60 time: 11.07\n",
            "[44,   200] loss: 1.253 acc: 39.09 time: 10.61\n",
            "[44,   300] loss: 1.245 acc: 39.73 time: 9.31\n",
            "TESTING:\n",
            "Accuracy of the network on the 10000 test images: 40.85 %\n",
            "Average loss on the 10000 test images: 1.858\n",
            "[45,   100] loss: 1.246 acc: 39.17 time: 11.07\n",
            "[45,   200] loss: 1.237 acc: 39.93 time: 10.74\n",
            "[45,   300] loss: 1.255 acc: 38.93 time: 9.47\n",
            "TESTING:\n",
            "Accuracy of the network on the 10000 test images: 40.85 %\n",
            "Average loss on the 10000 test images: 2.127\n",
            "Finished Training\n"
          ]
        }
      ]
    },
    {
      "cell_type": "markdown",
      "source": [
        "##Fine-tuning on the pre-trained model\n",
        "\n",
        "In this section, we will load the pre-trained resnet50 model and fine-tune on the classification task. We will freeze all previous layers except for the 'layer4' block and 'fc' layer."
      ],
      "metadata": {
        "id": "PLLMRTS9rTnk"
      }
    },
    {
      "cell_type": "code",
      "source": [
        "import torch.nn as nn\n",
        "import torch.nn.functional as F\n",
        "\n",
        "from torchvision.models import resnet50\n",
        "\n",
        "# TODO: Load the pre-trained resnet50 model\n",
        "saved_state_dict = torch.load('/content/drive/MyDrive/assignment3_starter/resnet50_weights')\n",
        "loaded_net = resnet50(num_classes=4)\n",
        "loaded_net.load_state_dict(saved_state_dict)\n",
        "loaded_net = loaded_net.to(device)\n",
        "criterion = nn.CrossEntropyLoss()\n",
        "run_test(loaded_net, testloader, criterion, 'rotation') # Verification, should give ~78% accuracy\n",
        "# we also need to change no of outputs for the image label classification task\n",
        "# to do this, reference : https://discuss.pytorch.org/t/how-to-reshape-last-layer-of-pytorch-cnn-model-while-doing-transfer-learning/62681/2 \n",
        "old_input_features = loaded_net.fc.in_features\n",
        "loaded_net.fc = nn.Linear(old_input_features, 10)\n",
        "loaded_net = loaded_net.to(device)  # this is necessary after replacing the fc layer"
      ],
      "metadata": {
        "id": "S4nX4ExlrymI",
        "colab": {
          "base_uri": "https://localhost:8080/"
        },
        "outputId": "499f677f-0f09-4894-b891-64f704a8de0a"
      },
      "execution_count": null,
      "outputs": [
        {
          "output_type": "stream",
          "name": "stdout",
          "text": [
            "TESTING:\n",
            "Accuracy of the network on the 10000 test images: 74.88 %\n",
            "Average loss on the 10000 test images: 0.637\n"
          ]
        }
      ]
    },
    {
      "cell_type": "code",
      "source": [
        "#run_test(net, testloader, criterion, 'rotation')\n",
        "run_test(loaded_net, testloader, criterion, 'classification')  # should be close to random (10%) since model hasn't been trained on CIFAR-10 labels yet\n",
        "#run_test(net, testloader, criterion, 'classification')"
      ],
      "metadata": {
        "id": "YL8tOq2c2JCk",
        "colab": {
          "base_uri": "https://localhost:8080/"
        },
        "outputId": "f0a622b7-db7f-483b-d831-8123bc7e1ef6"
      },
      "execution_count": null,
      "outputs": [
        {
          "output_type": "stream",
          "name": "stdout",
          "text": [
            "TESTING:\n",
            "Accuracy of the network on the 10000 test images: 8.31 %\n",
            "Average loss on the 10000 test images: 2.303\n"
          ]
        }
      ]
    },
    {
      "cell_type": "code",
      "source": [
        "# TODO: Freeze all previous layers; only keep the 'layer4' block and 'fc' layer trainable\n",
        "# To do this, you should set requires_grad=False for the frozen layers.\n",
        "for param in loaded_net.parameters():\n",
        "    param.requires_grad = False\n",
        "for param in loaded_net.layer4.parameters():\n",
        "    param.requires_grad = True\n",
        "for param in loaded_net.fc.parameters():\n",
        "    param.requires_grad = True"
      ],
      "metadata": {
        "id": "kD44g-TxwYdU"
      },
      "execution_count": null,
      "outputs": []
    },
    {
      "cell_type": "code",
      "source": [
        "print(type(loaded_net))\n",
        "print(type(loaded_net.parameters))\n",
        "print(type(loaded_net.layer4))\n",
        "print(type(loaded_net.fc))\n",
        "# print(type(loaded_net.features))\n",
        "print(type(loaded_net.layer4.parameters))\n",
        "print(type(loaded_net.fc.parameters))\n",
        "# print(type(loaded_net.features.parameters))\n",
        "#print(loaded_net)"
      ],
      "metadata": {
        "colab": {
          "base_uri": "https://localhost:8080/"
        },
        "id": "sYwp4qCwC3nl",
        "outputId": "087704cd-c67f-43a1-9e92-1ca247175f2f"
      },
      "execution_count": null,
      "outputs": [
        {
          "output_type": "stream",
          "name": "stdout",
          "text": [
            "<class 'torchvision.models.resnet.ResNet'>\n",
            "<class 'method'>\n",
            "<class 'torch.nn.modules.container.Sequential'>\n",
            "<class 'torch.nn.modules.linear.Linear'>\n",
            "<class 'method'>\n",
            "<class 'method'>\n"
          ]
        }
      ]
    },
    {
      "cell_type": "code",
      "source": [
        "# Print all the trainable parameters (they should be parameters of the last 2 layers)\n",
        "params_to_update = loaded_net.parameters()\n",
        "print(\"Params to learn:\")\n",
        "params_to_update = []\n",
        "for name,param in loaded_net.named_parameters():\n",
        "    if param.requires_grad == True:\n",
        "        params_to_update.append(param)\n",
        "        print(\"\\t\",name)"
      ],
      "metadata": {
        "id": "9T5DX0efr4fh",
        "colab": {
          "base_uri": "https://localhost:8080/"
        },
        "outputId": "487cfcaa-5c47-421b-b03b-949c603b7a4d"
      },
      "execution_count": null,
      "outputs": [
        {
          "output_type": "stream",
          "name": "stdout",
          "text": [
            "Params to learn:\n",
            "\t layer4.0.conv1.weight\n",
            "\t layer4.0.bn1.weight\n",
            "\t layer4.0.bn1.bias\n",
            "\t layer4.0.conv2.weight\n",
            "\t layer4.0.bn2.weight\n",
            "\t layer4.0.bn2.bias\n",
            "\t layer4.0.conv3.weight\n",
            "\t layer4.0.bn3.weight\n",
            "\t layer4.0.bn3.bias\n",
            "\t layer4.0.downsample.0.weight\n",
            "\t layer4.0.downsample.1.weight\n",
            "\t layer4.0.downsample.1.bias\n",
            "\t layer4.1.conv1.weight\n",
            "\t layer4.1.bn1.weight\n",
            "\t layer4.1.bn1.bias\n",
            "\t layer4.1.conv2.weight\n",
            "\t layer4.1.bn2.weight\n",
            "\t layer4.1.bn2.bias\n",
            "\t layer4.1.conv3.weight\n",
            "\t layer4.1.bn3.weight\n",
            "\t layer4.1.bn3.bias\n",
            "\t layer4.2.conv1.weight\n",
            "\t layer4.2.bn1.weight\n",
            "\t layer4.2.bn1.bias\n",
            "\t layer4.2.conv2.weight\n",
            "\t layer4.2.bn2.weight\n",
            "\t layer4.2.bn2.bias\n",
            "\t layer4.2.conv3.weight\n",
            "\t layer4.2.bn3.weight\n",
            "\t layer4.2.bn3.bias\n",
            "\t fc.weight\n",
            "\t fc.bias\n"
          ]
        }
      ]
    },
    {
      "cell_type": "code",
      "source": [
        "# TODO: Define criterion and optimizer\n",
        "# Note that your optimizer only needs to update the parameters that are trainable.\n",
        "criterion = nn.CrossEntropyLoss()\n",
        "optimizer = torch.optim.Adam(params_to_update, lr = 0.01) "
      ],
      "metadata": {
        "id": "xb032dG700ph"
      },
      "execution_count": null,
      "outputs": []
    },
    {
      "cell_type": "code",
      "source": [
        "train(loaded_net, criterion, optimizer, num_epochs=20, decay_epochs=9, init_lr=0.01, task='classification')\n",
        "torch.save(loaded_net.state_dict(), '/content/drive/MyDrive/assignment3_starter/pretrained_resnet50_last_two_layers_fine_tuned_weights')"
      ],
      "metadata": {
        "id": "3vLSwOo6sBjl",
        "colab": {
          "base_uri": "https://localhost:8080/"
        },
        "outputId": "98400aed-619e-4c76-8b3a-d06a5bbe92ce"
      },
      "execution_count": null,
      "outputs": [
        {
          "output_type": "stream",
          "name": "stdout",
          "text": [
            "[1,   100] loss: 1.971 acc: 25.88 time: 9.50\n",
            "[1,   200] loss: 1.709 acc: 36.65 time: 9.19\n",
            "[1,   300] loss: 1.639 acc: 39.28 time: 7.96\n",
            "TESTING:\n",
            "Accuracy of the network on the 10000 test images: 43.03 %\n",
            "Average loss on the 10000 test images: 1.602\n",
            "[2,   100] loss: 1.561 acc: 42.95 time: 9.70\n",
            "[2,   200] loss: 1.567 acc: 42.82 time: 8.16\n",
            "[2,   300] loss: 1.516 acc: 45.43 time: 9.30\n",
            "TESTING:\n",
            "Accuracy of the network on the 10000 test images: 45.06 %\n",
            "Average loss on the 10000 test images: 1.521\n",
            "[3,   100] loss: 1.507 acc: 45.15 time: 9.66\n",
            "[3,   200] loss: 1.488 acc: 45.49 time: 7.75\n",
            "[3,   300] loss: 1.493 acc: 45.65 time: 9.67\n",
            "TESTING:\n",
            "Accuracy of the network on the 10000 test images: 47.28 %\n",
            "Average loss on the 10000 test images: 1.477\n",
            "[4,   100] loss: 1.467 acc: 47.14 time: 8.30\n",
            "[4,   200] loss: 1.453 acc: 46.88 time: 9.37\n",
            "[4,   300] loss: 1.451 acc: 46.80 time: 9.64\n",
            "TESTING:\n",
            "Accuracy of the network on the 10000 test images: 46.28 %\n",
            "Average loss on the 10000 test images: 1.489\n",
            "[5,   100] loss: 1.436 acc: 47.44 time: 7.99\n",
            "[5,   200] loss: 1.435 acc: 47.69 time: 9.51\n",
            "[5,   300] loss: 1.429 acc: 48.22 time: 8.34\n",
            "TESTING:\n",
            "Accuracy of the network on the 10000 test images: 44.99 %\n",
            "Average loss on the 10000 test images: 1.534\n",
            "[6,   100] loss: 1.410 acc: 49.08 time: 9.77\n",
            "[6,   200] loss: 1.413 acc: 48.58 time: 9.57\n",
            "[6,   300] loss: 1.410 acc: 49.27 time: 7.93\n",
            "TESTING:\n",
            "Accuracy of the network on the 10000 test images: 47.56 %\n",
            "Average loss on the 10000 test images: 1.468\n",
            "[7,   100] loss: 1.397 acc: 49.57 time: 9.78\n",
            "[7,   200] loss: 1.395 acc: 48.91 time: 8.42\n",
            "[7,   300] loss: 1.395 acc: 49.68 time: 9.05\n",
            "TESTING:\n",
            "Accuracy of the network on the 10000 test images: 49.72 %\n",
            "Average loss on the 10000 test images: 1.405\n",
            "[8,   100] loss: 1.380 acc: 49.73 time: 9.93\n",
            "[8,   200] loss: 1.383 acc: 50.15 time: 7.90\n",
            "[8,   300] loss: 1.368 acc: 50.16 time: 9.67\n",
            "TESTING:\n",
            "Accuracy of the network on the 10000 test images: 51.57 %\n",
            "Average loss on the 10000 test images: 1.369\n",
            "[9,   100] loss: 1.368 acc: 50.17 time: 8.94\n",
            "[9,   200] loss: 1.358 acc: 50.96 time: 8.54\n",
            "[9,   300] loss: 1.358 acc: 50.75 time: 9.65\n",
            "TESTING:\n",
            "Accuracy of the network on the 10000 test images: 52.75 %\n",
            "Average loss on the 10000 test images: 1.321\n",
            "[10,   100] loss: 1.303 acc: 52.66 time: 8.01\n",
            "[10,   200] loss: 1.291 acc: 53.27 time: 9.68\n",
            "[10,   300] loss: 1.299 acc: 52.78 time: 9.39\n",
            "TESTING:\n",
            "Accuracy of the network on the 10000 test images: 55.00 %\n",
            "Average loss on the 10000 test images: 1.256\n",
            "[11,   100] loss: 1.282 acc: 53.43 time: 9.02\n",
            "[11,   200] loss: 1.294 acc: 53.79 time: 9.75\n",
            "[11,   300] loss: 1.284 acc: 53.48 time: 7.88\n",
            "TESTING:\n",
            "Accuracy of the network on the 10000 test images: 55.60 %\n",
            "Average loss on the 10000 test images: 1.241\n",
            "[12,   100] loss: 1.282 acc: 53.14 time: 9.93\n",
            "[12,   200] loss: 1.283 acc: 53.65 time: 9.66\n",
            "[12,   300] loss: 1.279 acc: 54.27 time: 8.12\n",
            "TESTING:\n",
            "Accuracy of the network on the 10000 test images: 55.58 %\n",
            "Average loss on the 10000 test images: 1.233\n",
            "[13,   100] loss: 1.282 acc: 53.87 time: 9.85\n",
            "[13,   200] loss: 1.261 acc: 54.26 time: 8.51\n",
            "[13,   300] loss: 1.282 acc: 52.81 time: 9.26\n",
            "TESTING:\n",
            "Accuracy of the network on the 10000 test images: 55.59 %\n",
            "Average loss on the 10000 test images: 1.239\n",
            "[14,   100] loss: 1.257 acc: 54.33 time: 9.92\n",
            "[14,   200] loss: 1.264 acc: 54.05 time: 7.96\n",
            "[14,   300] loss: 1.268 acc: 54.48 time: 9.69\n",
            "TESTING:\n",
            "Accuracy of the network on the 10000 test images: 56.04 %\n",
            "Average loss on the 10000 test images: 1.230\n",
            "[15,   100] loss: 1.276 acc: 53.55 time: 9.27\n",
            "[15,   200] loss: 1.254 acc: 54.55 time: 8.69\n",
            "[15,   300] loss: 1.267 acc: 53.77 time: 9.74\n",
            "TESTING:\n",
            "Accuracy of the network on the 10000 test images: 55.93 %\n",
            "Average loss on the 10000 test images: 1.229\n",
            "[16,   100] loss: 1.260 acc: 54.12 time: 8.37\n",
            "[16,   200] loss: 1.252 acc: 54.81 time: 9.61\n",
            "[16,   300] loss: 1.258 acc: 54.40 time: 9.79\n",
            "TESTING:\n",
            "Accuracy of the network on the 10000 test images: 56.19 %\n",
            "Average loss on the 10000 test images: 1.224\n",
            "[17,   100] loss: 1.279 acc: 54.10 time: 8.21\n",
            "[17,   200] loss: 1.248 acc: 54.99 time: 9.71\n",
            "[17,   300] loss: 1.248 acc: 54.68 time: 9.27\n",
            "TESTING:\n",
            "Accuracy of the network on the 10000 test images: 55.88 %\n",
            "Average loss on the 10000 test images: 1.255\n",
            "[18,   100] loss: 1.251 acc: 54.27 time: 9.08\n",
            "[18,   200] loss: 1.235 acc: 54.97 time: 9.65\n",
            "[18,   300] loss: 1.273 acc: 53.81 time: 7.94\n",
            "TESTING:\n",
            "Accuracy of the network on the 10000 test images: 56.34 %\n",
            "Average loss on the 10000 test images: 1.236\n",
            "[19,   100] loss: 1.250 acc: 54.45 time: 9.90\n",
            "[19,   200] loss: 1.247 acc: 54.51 time: 9.05\n",
            "[19,   300] loss: 1.236 acc: 55.36 time: 8.23\n",
            "TESTING:\n",
            "Accuracy of the network on the 10000 test images: 56.63 %\n",
            "Average loss on the 10000 test images: 1.224\n",
            "[20,   100] loss: 1.237 acc: 55.30 time: 9.72\n",
            "[20,   200] loss: 1.234 acc: 55.27 time: 7.95\n",
            "[20,   300] loss: 1.249 acc: 55.19 time: 9.48\n",
            "TESTING:\n",
            "Accuracy of the network on the 10000 test images: 56.82 %\n",
            "Average loss on the 10000 test images: 1.200\n",
            "Finished Training\n"
          ]
        }
      ]
    },
    {
      "cell_type": "markdown",
      "source": [
        "## Fine-tuning on the randomly initialized model\n",
        "In this section, we will randomly initialize a resnet50 model and fine-tune on the classification task. We will freeze all previous layers except for the 'layer4' block and 'fc' layer."
      ],
      "metadata": {
        "id": "ghPNhcJBrcNj"
      }
    },
    {
      "cell_type": "code",
      "source": [
        "import torch.nn as nn\n",
        "import torch.nn.functional as F\n",
        "\n",
        "from torchvision.models import resnet50\n",
        "\n",
        "# TODO: Randomly initialize a resnet50 model\n",
        "r_init_net = resnet50(num_classes=10).to(device)"
      ],
      "metadata": {
        "id": "2RfXAh9vxXRB"
      },
      "execution_count": null,
      "outputs": []
    },
    {
      "cell_type": "code",
      "source": [
        "# TODO: Freeze all previous layers; only keep the 'layer4' block and 'fc' layer trainable\n",
        "# To do this, you should set requires_grad=False for the frozen layers.\n",
        "for param in r_init_net.parameters():\n",
        "    param.requires_grad = False\n",
        "for param in r_init_net.layer4.parameters():\n",
        "    param.requires_grad = True\n",
        "for param in r_init_net.fc.parameters():\n",
        "    param.requires_grad = True"
      ],
      "metadata": {
        "id": "fpx-SYAizt4p"
      },
      "execution_count": null,
      "outputs": []
    },
    {
      "cell_type": "code",
      "source": [
        "# Print all the trainable parameters\n",
        "params_to_update = r_init_net.parameters()\n",
        "print(\"Params to learn:\")\n",
        "params_to_update = []\n",
        "for name,param in r_init_net.named_parameters():\n",
        "    if param.requires_grad == True:\n",
        "        params_to_update.append(param)\n",
        "        print(\"\\t\",name)"
      ],
      "metadata": {
        "id": "BUFWizbHxgm2"
      },
      "execution_count": null,
      "outputs": []
    },
    {
      "cell_type": "code",
      "source": [
        "# TODO: Define criterion and optimizer\n",
        "# Note that your optimizer only needs to update the parameters that are trainable.\n",
        "criterion = nn.CrossEntropyLoss()\n",
        "optimizer = optim.Adam(params_to_update, lr = 0.01)"
      ],
      "metadata": {
        "id": "BxFrGj091AN_"
      },
      "execution_count": null,
      "outputs": []
    },
    {
      "cell_type": "code",
      "source": [
        "train(r_init_net, criterion, optimizer, num_epochs=20, decay_epochs=10, init_lr=0.01, task='classification')\n",
        "torch.save(r_init_net.state_dict(), '/content/drive/MyDrive/assignment3_starter/random_init_resnet50_last_two_layers_fine_tuned_weights')"
      ],
      "metadata": {
        "id": "GzRVy0MZxpoL",
        "colab": {
          "base_uri": "https://localhost:8080/"
        },
        "outputId": "0b04af7c-1b35-446b-abc1-04e5b7d09f54"
      },
      "execution_count": null,
      "outputs": [
        {
          "output_type": "stream",
          "name": "stdout",
          "text": [
            "[1,   100] loss: 4.038 acc: 13.95 time: 8.17\n",
            "[1,   200] loss: 2.681 acc: 17.08 time: 8.91\n",
            "[1,   300] loss: 2.248 acc: 17.42 time: 9.06\n",
            "TESTING:\n",
            "Accuracy of the network on the 10000 test images: 20.22 %\n",
            "Average loss on the 10000 test images: 2.136\n",
            "[2,   100] loss: 2.162 acc: 19.41 time: 10.12\n",
            "[2,   200] loss: 2.135 acc: 20.34 time: 9.24\n",
            "[2,   300] loss: 2.138 acc: 20.57 time: 7.58\n",
            "TESTING:\n",
            "Accuracy of the network on the 10000 test images: 21.78 %\n",
            "Average loss on the 10000 test images: 2.092\n",
            "[3,   100] loss: 2.121 acc: 21.05 time: 9.49\n",
            "[3,   200] loss: 2.116 acc: 21.16 time: 8.66\n",
            "[3,   300] loss: 2.101 acc: 22.20 time: 8.03\n",
            "TESTING:\n",
            "Accuracy of the network on the 10000 test images: 23.19 %\n",
            "Average loss on the 10000 test images: 2.055\n",
            "[4,   100] loss: 2.096 acc: 21.82 time: 9.23\n",
            "[4,   200] loss: 2.093 acc: 21.61 time: 7.54\n",
            "[4,   300] loss: 2.088 acc: 22.38 time: 9.03\n",
            "TESTING:\n",
            "Accuracy of the network on the 10000 test images: 23.93 %\n",
            "Average loss on the 10000 test images: 2.048\n",
            "[5,   100] loss: 2.083 acc: 22.48 time: 7.64\n",
            "[5,   200] loss: 2.077 acc: 22.85 time: 9.24\n",
            "[5,   300] loss: 2.072 acc: 23.17 time: 8.09\n",
            "TESTING:\n",
            "Accuracy of the network on the 10000 test images: 25.43 %\n",
            "Average loss on the 10000 test images: 2.017\n",
            "[6,   100] loss: 2.061 acc: 23.54 time: 9.29\n",
            "[6,   200] loss: 2.070 acc: 23.16 time: 8.85\n",
            "[6,   300] loss: 2.069 acc: 23.79 time: 7.62\n",
            "TESTING:\n",
            "Accuracy of the network on the 10000 test images: 25.84 %\n",
            "Average loss on the 10000 test images: 2.014\n",
            "[7,   100] loss: 2.060 acc: 23.73 time: 9.47\n",
            "[7,   200] loss: 2.066 acc: 23.38 time: 7.49\n",
            "[7,   300] loss: 2.067 acc: 23.47 time: 9.25\n",
            "TESTING:\n",
            "Accuracy of the network on the 10000 test images: 26.45 %\n",
            "Average loss on the 10000 test images: 2.001\n",
            "[8,   100] loss: 2.056 acc: 23.71 time: 7.61\n",
            "[8,   200] loss: 2.059 acc: 24.34 time: 9.27\n",
            "[8,   300] loss: 2.053 acc: 24.09 time: 8.14\n",
            "TESTING:\n",
            "Accuracy of the network on the 10000 test images: 26.70 %\n",
            "Average loss on the 10000 test images: 2.009\n",
            "[9,   100] loss: 2.039 acc: 24.95 time: 9.51\n",
            "[9,   200] loss: 2.046 acc: 24.52 time: 9.25\n",
            "[9,   300] loss: 2.044 acc: 24.73 time: 7.51\n",
            "TESTING:\n",
            "Accuracy of the network on the 10000 test images: 26.85 %\n",
            "Average loss on the 10000 test images: 1.985\n",
            "[10,   100] loss: 2.033 acc: 25.44 time: 9.38\n",
            "[10,   200] loss: 2.040 acc: 24.81 time: 7.44\n",
            "[10,   300] loss: 2.042 acc: 24.92 time: 9.12\n",
            "TESTING:\n",
            "Accuracy of the network on the 10000 test images: 27.97 %\n",
            "Average loss on the 10000 test images: 1.976\n",
            "[11,   100] loss: 2.023 acc: 24.74 time: 8.52\n",
            "[11,   200] loss: 2.022 acc: 25.80 time: 8.76\n",
            "[11,   300] loss: 2.007 acc: 26.11 time: 9.18\n",
            "TESTING:\n",
            "Accuracy of the network on the 10000 test images: 28.67 %\n",
            "Average loss on the 10000 test images: 1.952\n",
            "[12,   100] loss: 2.010 acc: 26.01 time: 8.02\n",
            "[12,   200] loss: 2.012 acc: 26.25 time: 9.30\n",
            "[12,   300] loss: 2.010 acc: 26.52 time: 7.61\n",
            "TESTING:\n",
            "Accuracy of the network on the 10000 test images: 28.77 %\n",
            "Average loss on the 10000 test images: 1.947\n",
            "[13,   100] loss: 2.009 acc: 26.48 time: 9.56\n",
            "[13,   200] loss: 1.997 acc: 26.88 time: 8.68\n",
            "[13,   300] loss: 2.007 acc: 26.51 time: 8.45\n",
            "TESTING:\n",
            "Accuracy of the network on the 10000 test images: 28.77 %\n",
            "Average loss on the 10000 test images: 1.942\n",
            "[14,   100] loss: 2.001 acc: 26.67 time: 9.46\n",
            "[14,   200] loss: 1.998 acc: 26.95 time: 7.56\n",
            "[14,   300] loss: 2.003 acc: 26.66 time: 9.37\n",
            "TESTING:\n",
            "Accuracy of the network on the 10000 test images: 29.07 %\n",
            "Average loss on the 10000 test images: 1.936\n",
            "[15,   100] loss: 1.996 acc: 27.00 time: 7.98\n",
            "[15,   200] loss: 2.009 acc: 25.68 time: 9.54\n",
            "[15,   300] loss: 1.994 acc: 26.81 time: 9.24\n",
            "TESTING:\n",
            "Accuracy of the network on the 10000 test images: 29.72 %\n",
            "Average loss on the 10000 test images: 1.935\n",
            "[16,   100] loss: 1.996 acc: 27.08 time: 9.09\n",
            "[16,   200] loss: 1.978 acc: 27.77 time: 9.38\n",
            "[16,   300] loss: 1.998 acc: 26.66 time: 7.53\n",
            "TESTING:\n",
            "Accuracy of the network on the 10000 test images: 29.52 %\n",
            "Average loss on the 10000 test images: 1.927\n",
            "[17,   100] loss: 1.987 acc: 27.62 time: 9.71\n",
            "[17,   200] loss: 2.000 acc: 26.23 time: 8.04\n",
            "[17,   300] loss: 1.990 acc: 27.73 time: 9.20\n",
            "TESTING:\n",
            "Accuracy of the network on the 10000 test images: 29.81 %\n",
            "Average loss on the 10000 test images: 1.927\n",
            "[18,   100] loss: 1.985 acc: 27.57 time: 9.53\n",
            "[18,   200] loss: 1.989 acc: 26.72 time: 7.84\n",
            "[18,   300] loss: 1.979 acc: 27.76 time: 9.32\n",
            "TESTING:\n",
            "Accuracy of the network on the 10000 test images: 29.65 %\n",
            "Average loss on the 10000 test images: 1.923\n",
            "[19,   100] loss: 1.980 acc: 27.58 time: 7.84\n",
            "[19,   200] loss: 1.991 acc: 26.61 time: 9.37\n",
            "[19,   300] loss: 1.973 acc: 27.45 time: 9.26\n",
            "TESTING:\n",
            "Accuracy of the network on the 10000 test images: 29.91 %\n",
            "Average loss on the 10000 test images: 1.928\n",
            "[20,   100] loss: 1.979 acc: 27.41 time: 9.01\n",
            "[20,   200] loss: 1.991 acc: 27.37 time: 9.34\n",
            "[20,   300] loss: 1.990 acc: 27.57 time: 7.84\n",
            "TESTING:\n",
            "Accuracy of the network on the 10000 test images: 30.30 %\n",
            "Average loss on the 10000 test images: 1.918\n",
            "Finished Training\n"
          ]
        }
      ]
    },
    {
      "cell_type": "markdown",
      "source": [
        "##Supervised training on the pre-trained model\n",
        "In this section, we will load the pre-trained resnet50 model and re-train the whole model on the classification task."
      ],
      "metadata": {
        "id": "WcN54tcNN15U"
      }
    },
    {
      "cell_type": "code",
      "source": [
        "import torch.nn as nn\n",
        "import torch.nn.functional as F\n",
        "\n",
        "from torchvision.models import resnet50\n",
        "\n",
        "# TODO: Load the pre-trained resnet50 model\n",
        "saved_state_dict = torch.load('/content/drive/MyDrive/assignment3_starter/resnet50_weights')\n",
        "loaded_net2 = resnet50(num_classes=4)\n",
        "loaded_net2.load_state_dict(saved_state_dict)\n",
        "loaded_net2 = loaded_net2.to(device)\n",
        "run_test(loaded_net2, testloader, criterion, 'rotation')  # Verification, should give ~78% accuracy\n",
        "# we also need to change no of outputs for the image label classification task\n",
        "# to do this, reference : https://discuss.pytorch.org/t/how-to-reshape-last-layer-of-pytorch-cnn-model-while-doing-transfer-learning/62681/2 \n",
        "old_input_features = loaded_net2.fc.in_features\n",
        "loaded_net2.fc = nn.Linear(old_input_features, 10)\n",
        "loaded_net2 = loaded_net2.to(device) # this is necessary after replacing the fc layer"
      ],
      "metadata": {
        "id": "9xR9h_S1N6Xi"
      },
      "execution_count": null,
      "outputs": []
    },
    {
      "cell_type": "code",
      "source": [
        "# TODO: Define criterion and optimizer\n",
        "criterion = nn.CrossEntropyLoss()\n",
        "optimizer = optim.Adam(loaded_net2.parameters(), lr = 0.01)"
      ],
      "metadata": {
        "id": "gGozc2cM0ADw"
      },
      "execution_count": null,
      "outputs": []
    },
    {
      "cell_type": "code",
      "source": [
        "train(loaded_net2, criterion, optimizer, num_epochs=20, decay_epochs=9, init_lr=0.01, task='classification')\n",
        "torch.save(loaded_net2.state_dict(), '/content/drive/MyDrive/assignment3_starter/pretrained_resnet50_all_layers_fine_tuned_weights')"
      ],
      "metadata": {
        "id": "JGWW7gzCz_Bu",
        "colab": {
          "base_uri": "https://localhost:8080/"
        },
        "outputId": "0ea73371-326c-484a-9a0b-53646146c94b"
      },
      "execution_count": null,
      "outputs": [
        {
          "output_type": "stream",
          "name": "stdout",
          "text": [
            "[1,   100] loss: 0.433 acc: 84.95 time: 11.12\n",
            "[1,   200] loss: 0.427 acc: 84.88 time: 10.87\n",
            "[1,   300] loss: 0.429 acc: 85.21 time: 9.46\n",
            "TESTING:\n",
            "Accuracy of the network on the 10000 test images: 82.86 %\n",
            "Average loss on the 10000 test images: 0.507\n",
            "[2,   100] loss: 0.443 acc: 84.85 time: 10.68\n",
            "[2,   200] loss: 0.441 acc: 84.65 time: 10.39\n",
            "[2,   300] loss: 0.421 acc: 85.36 time: 8.96\n",
            "TESTING:\n",
            "Accuracy of the network on the 10000 test images: 82.69 %\n",
            "Average loss on the 10000 test images: 0.506\n",
            "[3,   100] loss: 0.435 acc: 84.93 time: 10.87\n",
            "[3,   200] loss: 0.434 acc: 85.03 time: 10.51\n",
            "[3,   300] loss: 0.438 acc: 84.87 time: 9.44\n",
            "TESTING:\n",
            "Accuracy of the network on the 10000 test images: 82.58 %\n",
            "Average loss on the 10000 test images: 0.509\n",
            "[4,   100] loss: 0.437 acc: 84.65 time: 10.15\n",
            "[4,   200] loss: 0.439 acc: 84.71 time: 10.50\n",
            "[4,   300] loss: 0.429 acc: 85.02 time: 10.45\n",
            "TESTING:\n",
            "Accuracy of the network on the 10000 test images: 82.79 %\n",
            "Average loss on the 10000 test images: 0.505\n",
            "[5,   100] loss: 0.430 acc: 85.17 time: 9.37\n",
            "[5,   200] loss: 0.441 acc: 84.83 time: 10.42\n",
            "[5,   300] loss: 0.443 acc: 84.63 time: 10.48\n",
            "TESTING:\n",
            "Accuracy of the network on the 10000 test images: 82.96 %\n",
            "Average loss on the 10000 test images: 0.507\n",
            "[6,   100] loss: 0.421 acc: 85.28 time: 9.28\n",
            "[6,   200] loss: 0.426 acc: 85.12 time: 10.40\n",
            "[6,   300] loss: 0.440 acc: 84.74 time: 10.79\n",
            "TESTING:\n",
            "Accuracy of the network on the 10000 test images: 82.91 %\n",
            "Average loss on the 10000 test images: 0.507\n",
            "[7,   100] loss: 0.423 acc: 85.22 time: 10.21\n",
            "[7,   200] loss: 0.439 acc: 84.54 time: 9.49\n",
            "[7,   300] loss: 0.439 acc: 84.71 time: 10.46\n",
            "TESTING:\n",
            "Accuracy of the network on the 10000 test images: 82.93 %\n",
            "Average loss on the 10000 test images: 0.505\n",
            "[8,   100] loss: 0.423 acc: 85.66 time: 10.81\n",
            "[8,   200] loss: 0.442 acc: 84.66 time: 9.01\n",
            "[8,   300] loss: 0.432 acc: 85.18 time: 10.45\n",
            "TESTING:\n",
            "Accuracy of the network on the 10000 test images: 82.82 %\n",
            "Average loss on the 10000 test images: 0.506\n",
            "[9,   100] loss: 0.431 acc: 85.02 time: 10.70\n",
            "[9,   200] loss: 0.443 acc: 84.65 time: 9.82\n",
            "[9,   300] loss: 0.432 acc: 84.92 time: 9.79\n",
            "TESTING:\n",
            "Accuracy of the network on the 10000 test images: 82.77 %\n",
            "Average loss on the 10000 test images: 0.506\n",
            "[10,   100] loss: 0.438 acc: 84.87 time: 10.81\n",
            "[10,   200] loss: 0.439 acc: 84.46 time: 10.58\n",
            "[10,   300] loss: 0.430 acc: 84.96 time: 9.11\n",
            "TESTING:\n",
            "Accuracy of the network on the 10000 test images: 82.67 %\n",
            "Average loss on the 10000 test images: 0.505\n",
            "[11,   100] loss: 0.442 acc: 84.72 time: 10.73\n",
            "[11,   200] loss: 0.450 acc: 84.34 time: 10.42\n",
            "[11,   300] loss: 0.427 acc: 85.12 time: 9.07\n",
            "TESTING:\n",
            "Accuracy of the network on the 10000 test images: 82.58 %\n",
            "Average loss on the 10000 test images: 0.510\n",
            "[12,   100] loss: 0.436 acc: 84.89 time: 10.61\n",
            "[12,   200] loss: 0.435 acc: 85.08 time: 10.50\n",
            "[12,   300] loss: 0.442 acc: 84.61 time: 9.81\n",
            "TESTING:\n",
            "Accuracy of the network on the 10000 test images: 82.80 %\n",
            "Average loss on the 10000 test images: 0.508\n",
            "[13,   100] loss: 0.426 acc: 85.40 time: 9.75\n",
            "[13,   200] loss: 0.439 acc: 84.88 time: 10.77\n",
            "[13,   300] loss: 0.437 acc: 84.83 time: 10.64\n",
            "TESTING:\n",
            "Accuracy of the network on the 10000 test images: 82.81 %\n",
            "Average loss on the 10000 test images: 0.504\n",
            "[14,   100] loss: 0.440 acc: 84.66 time: 9.31\n",
            "[14,   200] loss: 0.420 acc: 85.46 time: 10.73\n",
            "[14,   300] loss: 0.441 acc: 84.53 time: 10.74\n",
            "TESTING:\n",
            "Accuracy of the network on the 10000 test images: 82.80 %\n",
            "Average loss on the 10000 test images: 0.506\n",
            "[15,   100] loss: 0.440 acc: 84.38 time: 10.60\n",
            "[15,   200] loss: 0.432 acc: 84.98 time: 9.69\n",
            "[15,   300] loss: 0.432 acc: 85.14 time: 10.97\n",
            "TESTING:\n",
            "Accuracy of the network on the 10000 test images: 82.90 %\n",
            "Average loss on the 10000 test images: 0.505\n",
            "[16,   100] loss: 0.427 acc: 85.09 time: 11.10\n",
            "[16,   200] loss: 0.440 acc: 85.14 time: 9.56\n",
            "[16,   300] loss: 0.441 acc: 84.39 time: 10.39\n",
            "TESTING:\n",
            "Accuracy of the network on the 10000 test images: 82.51 %\n",
            "Average loss on the 10000 test images: 0.509\n",
            "[17,   100] loss: 0.418 acc: 85.53 time: 11.06\n",
            "[17,   200] loss: 0.437 acc: 84.84 time: 10.37\n",
            "[17,   300] loss: 0.439 acc: 84.70 time: 9.48\n",
            "TESTING:\n",
            "Accuracy of the network on the 10000 test images: 82.69 %\n",
            "Average loss on the 10000 test images: 0.505\n",
            "[18,   100] loss: 0.432 acc: 85.05 time: 11.09\n",
            "[18,   200] loss: 0.428 acc: 85.11 time: 10.66\n",
            "[18,   300] loss: 0.433 acc: 85.06 time: 9.14\n",
            "TESTING:\n",
            "Accuracy of the network on the 10000 test images: 82.82 %\n",
            "Average loss on the 10000 test images: 0.506\n",
            "[19,   100] loss: 0.432 acc: 84.95 time: 10.81\n",
            "[19,   200] loss: 0.432 acc: 85.12 time: 10.66\n",
            "[19,   300] loss: 0.436 acc: 84.70 time: 10.56\n",
            "TESTING:\n",
            "Accuracy of the network on the 10000 test images: 82.60 %\n",
            "Average loss on the 10000 test images: 0.508\n",
            "[20,   100] loss: 0.431 acc: 84.45 time: 9.38\n",
            "[20,   200] loss: 0.453 acc: 84.45 time: 10.66\n",
            "[20,   300] loss: 0.428 acc: 85.16 time: 10.65\n",
            "TESTING:\n",
            "Accuracy of the network on the 10000 test images: 82.77 %\n",
            "Average loss on the 10000 test images: 0.507\n",
            "Finished Training\n"
          ]
        }
      ]
    },
    {
      "cell_type": "markdown",
      "source": [
        "##Supervised training on the randomly initialized model\n",
        "In this section, we will randomly initialize a resnet50 model and re-train the whole model on the classification task."
      ],
      "metadata": {
        "id": "xjVTp9jhefTi"
      }
    },
    {
      "cell_type": "code",
      "source": [
        "import torch.nn as nn\n",
        "import torch.nn.functional as F\n",
        "\n",
        "from torchvision.models import resnet50\n",
        "\n",
        "# TODO: Randomly initialize a resnet50 model\n",
        "r_init_net2 = resnet50(num_classes = 10).to(device)"
      ],
      "metadata": {
        "id": "uEjy8TBieeLK"
      },
      "execution_count": null,
      "outputs": []
    },
    {
      "cell_type": "code",
      "source": [
        "# TODO: Define criterion and optimizer\n",
        "criterion = nn.CrossEntropyLoss()\n",
        "optimizer = optim.Adam(r_init_net2.parameters(), lr = 0.01)"
      ],
      "metadata": {
        "id": "jEY90pK_0ZAm"
      },
      "execution_count": null,
      "outputs": []
    },
    {
      "cell_type": "code",
      "source": [
        "train(r_init_net2, criterion, optimizer, num_epochs=20, decay_epochs=9, init_lr=0.01, task='classification')\n",
        "torch.save(r_init_net2.state_dict(), '/content/drive/MyDrive/assignment3_starter/random_init_resnet50_all_layers_fine_tuned_weights')"
      ],
      "metadata": {
        "id": "lMDwelhY0auO",
        "colab": {
          "base_uri": "https://localhost:8080/"
        },
        "outputId": "5d97aaff-2a9b-4cae-fdbe-476cdaad003c"
      },
      "execution_count": null,
      "outputs": [
        {
          "output_type": "stream",
          "name": "stdout",
          "text": [
            "[1,   100] loss: 0.992 acc: 65.91 time: 15.14\n",
            "[1,   200] loss: 1.026 acc: 65.18 time: 14.26\n",
            "[1,   300] loss: 0.996 acc: 65.52 time: 9.08\n",
            "TESTING:\n",
            "Accuracy of the network on the 10000 test images: 67.93 %\n",
            "Average loss on the 10000 test images: 1.514\n",
            "[2,   100] loss: 0.907 acc: 68.88 time: 10.73\n",
            "[2,   200] loss: 0.837 acc: 71.07 time: 10.25\n",
            "[2,   300] loss: 0.861 acc: 70.40 time: 8.66\n",
            "TESTING:\n",
            "Accuracy of the network on the 10000 test images: 44.76 %\n",
            "Average loss on the 10000 test images: 283.216\n",
            "[3,   100] loss: 0.923 acc: 67.85 time: 10.66\n",
            "[3,   200] loss: 0.833 acc: 71.05 time: 11.48\n",
            "[3,   300] loss: 0.829 acc: 71.36 time: 9.27\n",
            "TESTING:\n",
            "Accuracy of the network on the 10000 test images: 72.71 %\n",
            "Average loss on the 10000 test images: 0.890\n",
            "[4,   100] loss: 0.773 acc: 73.43 time: 10.28\n",
            "[4,   200] loss: 0.853 acc: 70.77 time: 10.34\n",
            "[4,   300] loss: 0.814 acc: 71.83 time: 9.65\n",
            "TESTING:\n",
            "Accuracy of the network on the 10000 test images: 69.38 %\n",
            "Average loss on the 10000 test images: 0.916\n",
            "[5,   100] loss: 0.849 acc: 71.26 time: 9.70\n",
            "[5,   200] loss: 0.993 acc: 67.02 time: 10.37\n",
            "[5,   300] loss: 0.881 acc: 70.69 time: 10.43\n",
            "TESTING:\n",
            "Accuracy of the network on the 10000 test images: 72.90 %\n",
            "Average loss on the 10000 test images: 0.794\n",
            "[6,   100] loss: 0.716 acc: 75.12 time: 9.15\n",
            "[6,   200] loss: 0.729 acc: 74.78 time: 10.58\n",
            "[6,   300] loss: 0.695 acc: 76.18 time: 13.91\n",
            "TESTING:\n",
            "Accuracy of the network on the 10000 test images: 75.93 %\n",
            "Average loss on the 10000 test images: 0.699\n",
            "[7,   100] loss: 0.672 acc: 76.41 time: 10.82\n",
            "[7,   200] loss: 0.825 acc: 72.27 time: 9.19\n",
            "[7,   300] loss: 1.001 acc: 65.76 time: 10.34\n",
            "TESTING:\n",
            "Accuracy of the network on the 10000 test images: 72.33 %\n",
            "Average loss on the 10000 test images: 0.805\n",
            "[8,   100] loss: 0.710 acc: 74.98 time: 10.73\n",
            "[8,   200] loss: 0.684 acc: 76.24 time: 9.29\n",
            "[8,   300] loss: 0.691 acc: 76.08 time: 9.81\n",
            "TESTING:\n",
            "Accuracy of the network on the 10000 test images: 78.13 %\n",
            "Average loss on the 10000 test images: 0.631\n",
            "[9,   100] loss: 0.636 acc: 77.80 time: 10.82\n",
            "[9,   200] loss: 0.629 acc: 77.88 time: 10.51\n",
            "[9,   300] loss: 0.652 acc: 77.35 time: 9.01\n",
            "TESTING:\n",
            "Accuracy of the network on the 10000 test images: 76.33 %\n",
            "Average loss on the 10000 test images: 0.695\n",
            "[10,   100] loss: 0.550 acc: 80.71 time: 10.78\n",
            "[10,   200] loss: 0.530 acc: 81.91 time: 10.42\n",
            "[10,   300] loss: 0.510 acc: 82.66 time: 8.89\n",
            "TESTING:\n",
            "Accuracy of the network on the 10000 test images: 81.80 %\n",
            "Average loss on the 10000 test images: 0.525\n",
            "[11,   100] loss: 0.496 acc: 82.70 time: 10.74\n",
            "[11,   200] loss: 0.491 acc: 82.81 time: 10.27\n",
            "[11,   300] loss: 0.500 acc: 82.86 time: 9.48\n",
            "TESTING:\n",
            "Accuracy of the network on the 10000 test images: 82.02 %\n",
            "Average loss on the 10000 test images: 0.518\n",
            "[12,   100] loss: 0.476 acc: 83.54 time: 10.16\n",
            "[12,   200] loss: 0.480 acc: 83.16 time: 10.35\n",
            "[12,   300] loss: 0.488 acc: 83.42 time: 9.62\n",
            "TESTING:\n",
            "Accuracy of the network on the 10000 test images: 82.37 %\n",
            "Average loss on the 10000 test images: 0.514\n",
            "[13,   100] loss: 0.480 acc: 83.30 time: 9.95\n",
            "[13,   200] loss: 0.443 acc: 84.73 time: 10.37\n",
            "[13,   300] loss: 0.473 acc: 83.72 time: 10.38\n",
            "TESTING:\n",
            "Accuracy of the network on the 10000 test images: 82.90 %\n",
            "Average loss on the 10000 test images: 0.504\n",
            "[14,   100] loss: 0.447 acc: 84.64 time: 9.07\n",
            "[14,   200] loss: 0.459 acc: 83.93 time: 10.58\n",
            "[14,   300] loss: 0.445 acc: 84.91 time: 10.33\n",
            "TESTING:\n",
            "Accuracy of the network on the 10000 test images: 82.53 %\n",
            "Average loss on the 10000 test images: 0.500\n",
            "[15,   100] loss: 0.437 acc: 84.70 time: 9.62\n",
            "[15,   200] loss: 0.444 acc: 84.43 time: 9.96\n",
            "[15,   300] loss: 0.453 acc: 84.25 time: 10.30\n",
            "TESTING:\n",
            "Accuracy of the network on the 10000 test images: 82.86 %\n",
            "Average loss on the 10000 test images: 0.498\n",
            "[16,   100] loss: 0.442 acc: 84.83 time: 9.98\n",
            "[16,   200] loss: 0.433 acc: 85.19 time: 9.57\n",
            "[16,   300] loss: 0.435 acc: 84.94 time: 10.39\n",
            "TESTING:\n",
            "Accuracy of the network on the 10000 test images: 82.79 %\n",
            "Average loss on the 10000 test images: 0.497\n",
            "[17,   100] loss: 0.450 acc: 84.48 time: 10.45\n",
            "[17,   200] loss: 0.421 acc: 85.46 time: 8.98\n",
            "[17,   300] loss: 0.422 acc: 85.34 time: 10.21\n",
            "TESTING:\n",
            "Accuracy of the network on the 10000 test images: 83.13 %\n",
            "Average loss on the 10000 test images: 0.491\n",
            "[18,   100] loss: 0.416 acc: 85.41 time: 10.69\n",
            "[18,   200] loss: 0.414 acc: 85.37 time: 9.20\n",
            "[18,   300] loss: 0.420 acc: 85.42 time: 10.69\n",
            "TESTING:\n",
            "Accuracy of the network on the 10000 test images: 83.37 %\n",
            "Average loss on the 10000 test images: 0.485\n",
            "[19,   100] loss: 0.406 acc: 86.12 time: 10.85\n",
            "[19,   200] loss: 0.401 acc: 86.16 time: 9.94\n",
            "[19,   300] loss: 0.401 acc: 85.86 time: 10.17\n",
            "TESTING:\n",
            "Accuracy of the network on the 10000 test images: 83.47 %\n",
            "Average loss on the 10000 test images: 0.480\n",
            "[20,   100] loss: 0.417 acc: 85.46 time: 10.85\n",
            "[20,   200] loss: 0.397 acc: 86.03 time: 10.73\n",
            "[20,   300] loss: 0.401 acc: 86.34 time: 9.03\n",
            "TESTING:\n",
            "Accuracy of the network on the 10000 test images: 83.56 %\n",
            "Average loss on the 10000 test images: 0.479\n",
            "Finished Training\n"
          ]
        }
      ]
    }
  ]
}