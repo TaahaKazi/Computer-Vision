{
  "nbformat": 4,
  "nbformat_minor": 0,
  "metadata": {
    "colab": {
      "provenance": []
    },
    "kernelspec": {
      "name": "python3",
      "display_name": "Python 3"
    },
    "language_info": {
      "name": "python"
    },
    "accelerator": "GPU",
    "gpuClass": "standard"
  },
  "cells": [
    {
      "cell_type": "markdown",
      "source": [
        "# (Optional) Colab Setup\n",
        "If you aren't using Colab, you can delete the following code cell. This is just to help students with mounting to Google Drive to access the other .py files and downloading the data, which is a little trickier on Colab than on your local machine using Jupyter. "
      ],
      "metadata": {
        "id": "IWMWW8Ab_345"
      }
    },
    {
      "cell_type": "code",
      "source": [
        "# you will be prompted with a window asking to grant permissions\n",
        "from google.colab import drive\n",
        "drive.mount(\"/content/drive\")"
      ],
      "metadata": {
        "id": "vH4wc4iD_6w_",
        "colab": {
          "base_uri": "https://localhost:8080/"
        },
        "outputId": "7cc5fa62-9a7c-42f4-c450-5dc436139641"
      },
      "execution_count": 1,
      "outputs": [
        {
          "output_type": "stream",
          "name": "stdout",
          "text": [
            "Mounted at /content/drive\n"
          ]
        }
      ]
    },
    {
      "cell_type": "code",
      "source": [
        "# fill in the path in your Google Drive in the string below. Note: do not escape slashes or spaces\n",
        "import os\n",
        "datadir = \"/content/assignment3\"\n",
        "if not os.path.exists(datadir):\n",
        "  !ln -s \"/content/drive/MyDrive/assignment3_starter\" $datadir # TODO: Fill your A3 path\n",
        "  datadir = \"/content/drive/MyDrive/assignment3_starter\"\n",
        "os.chdir(datadir)\n",
        "!pwd"
      ],
      "metadata": {
        "id": "XpNsPHZc_879",
        "colab": {
          "base_uri": "https://localhost:8080/"
        },
        "outputId": "9971ad93-60de-4d35-cf91-9cd9cd533ea6"
      },
      "execution_count": 2,
      "outputs": [
        {
          "output_type": "stream",
          "name": "stdout",
          "text": [
            "/content/drive/MyDrive/DLCV/assignment3_starter\n"
          ]
        }
      ]
    },
    {
      "cell_type": "markdown",
      "source": [
        "#Data Setup\n",
        "\n",
        "The first thing to do is implement a dataset class to load rotated CIFAR10 images with matching labels. Since there is already a CIFAR10 dataset class implemented in `torchvision`, we will extend this class and modify the `__get_item__` method appropriately to load rotated images.\n",
        "\n",
        "Each rotation label should be an integer in the set {0, 1, 2, 3} which correspond to rotations of 0, 90, 180, or 270 degrees respectively."
      ],
      "metadata": {
        "id": "Um5DJvBwb6xT"
      }
    },
    {
      "cell_type": "code",
      "source": [
        "import torch\n",
        "import torchvision\n",
        "import torchvision.transforms as transforms\n",
        "import numpy as np\n",
        "import random\n",
        "\n",
        "\n",
        "def rotate_img(img, rot):\n",
        "    if rot == 0: # 0 degrees rotation\n",
        "        return img\n",
        "    # TODO: Implement rotate_img() - return the rotated img\n",
        "    elif rot == 1 or 2 or 3: # 90, 180 or 270 degrees rotation counter-clockwise\n",
        "        return transforms.functional.rotate(img=img, angle=(rot*90))\n",
        "    # End TODO\n",
        "    else:\n",
        "        raise ValueError('rotation should be 0, 90, 180, or 270 degrees')\n",
        "\n",
        "\n",
        "class CIFAR10Rotation(torchvision.datasets.CIFAR10):\n",
        "\n",
        "    def __init__(self, root, train, download, transform) -> None:\n",
        "        super().__init__(root=root, train=train, download=download, transform=transform)\n",
        "    \n",
        "    def __len__(self):\n",
        "        return len(self.data)\n",
        "    \n",
        "    def __getitem__(self, index: int):\n",
        "        image, cls_label = super().__getitem__(index)\n",
        "\n",
        "        # randomly select image rotation\n",
        "        rotation_label = random.choice([0, 1, 2, 3])\n",
        "        image_rotated = rotate_img(image, rotation_label)\n",
        "\n",
        "        rotation_label = torch.tensor(rotation_label).long()\n",
        "        return image, image_rotated, rotation_label, torch.tensor(cls_label).long()"
      ],
      "metadata": {
        "id": "oHkeNUOKiFbP"
      },
      "execution_count": 3,
      "outputs": []
    },
    {
      "cell_type": "code",
      "source": [
        "transform_train = transforms.Compose([\n",
        "    transforms.RandomCrop(32, padding=4),\n",
        "    transforms.RandomHorizontalFlip(),\n",
        "    transforms.ToTensor(),\n",
        "    transforms.Normalize((0.4914, 0.4822, 0.4465), (0.2023, 0.1994, 0.2010)),\n",
        "])\n",
        "\n",
        "transform_test = transforms.Compose([\n",
        "    transforms.ToTensor(),\n",
        "    transforms.Normalize((0.4914, 0.4822, 0.4465), (0.2023, 0.1994, 0.2010)),\n",
        "])\n",
        "\n",
        "batch_size = 128\n",
        "\n",
        "trainset = CIFAR10Rotation(root='./data', train=True,\n",
        "                                        download=True, transform=transform_train)\n",
        "trainloader = torch.utils.data.DataLoader(trainset, batch_size=batch_size,\n",
        "                                          shuffle=True, num_workers=2)\n",
        "\n",
        "testset = CIFAR10Rotation(root='./data', train=False,\n",
        "                                       download=True, transform=transform_test)\n",
        "testloader = torch.utils.data.DataLoader(testset, batch_size=batch_size,\n",
        "                                         shuffle=False, num_workers=2)"
      ],
      "metadata": {
        "id": "CCBSpNWpb8uw",
        "colab": {
          "base_uri": "https://localhost:8080/"
        },
        "outputId": "d5c4ff9e-8521-4c3d-fad8-739ad8428d8d"
      },
      "execution_count": 4,
      "outputs": [
        {
          "output_type": "stream",
          "name": "stdout",
          "text": [
            "Files already downloaded and verified\n",
            "Files already downloaded and verified\n"
          ]
        }
      ]
    },
    {
      "cell_type": "markdown",
      "source": [
        "Show some example images and rotated images with labels:"
      ],
      "metadata": {
        "id": "dOCWMyGhVOJB"
      }
    },
    {
      "cell_type": "code",
      "source": [
        "import matplotlib.pyplot as plt\n",
        "\n",
        "classes = ('plane', 'car', 'bird', 'cat',\n",
        "           'deer', 'dog', 'frog', 'horse', 'ship', 'truck')\n",
        "\n",
        "rot_classes = ('0', '90', '180', '270')\n",
        "\n",
        "\n",
        "def imshow(img):\n",
        "    # unnormalize\n",
        "    img = transforms.Normalize((0, 0, 0), (1/0.2023, 1/0.1994, 1/0.2010))(img)\n",
        "    img = transforms.Normalize((-0.4914, -0.4822, -0.4465), (1, 1, 1))(img)\n",
        "    npimg = img.numpy()\n",
        "    plt.imshow(np.transpose(npimg, (1, 2, 0)))\n",
        "    plt.show()\n",
        "\n",
        "\n",
        "dataiter = iter(trainloader)\n",
        "images, rot_images, rot_labels, labels = next(dataiter)\n",
        "\n",
        "# print images and rotated images\n",
        "img_grid = imshow(torchvision.utils.make_grid(images[:4], padding=0))\n",
        "print('Class labels: ', ' '.join(f'{classes[labels[j]]:5s}' for j in range(4)))\n",
        "img_grid = imshow(torchvision.utils.make_grid(rot_images[:4], padding=0))\n",
        "print('Rotation labels: ', ' '.join(f'{rot_classes[rot_labels[j]]:5s}' for j in range(4)))"
      ],
      "metadata": {
        "id": "A9wN4BJWVMzB",
        "colab": {
          "base_uri": "https://localhost:8080/",
          "height": 428
        },
        "outputId": "d8088e01-a39b-49de-f9d7-d2c3f1b88153"
      },
      "execution_count": 5,
      "outputs": [
        {
          "output_type": "stream",
          "name": "stderr",
          "text": [
            "WARNING:matplotlib.image:Clipping input data to the valid range for imshow with RGB data ([0..1] for floats or [0..255] for integers).\n"
          ]
        },
        {
          "output_type": "display_data",
          "data": {
            "text/plain": [
              "<Figure size 640x480 with 1 Axes>"
            ],
            "image/png": "[encoded data removed]"
          },
          "metadata": {}
        },
        {
          "output_type": "stream",
          "name": "stderr",
          "text": [
            "WARNING:matplotlib.image:Clipping input data to the valid range for imshow with RGB data ([0..1] for floats or [0..255] for integers).\n"
          ]
        },
        {
          "output_type": "stream",
          "name": "stdout",
          "text": [
            "Class labels:  dog   frog  car   ship \n"
          ]
        },
        {
          "output_type": "display_data",
          "data": {
            "text/plain": [
              "<Figure size 640x480 with 1 Axes>"
            ],
            "image/png": "[encoded data removed]"
          },
          "metadata": {}
        },
        {
          "output_type": "stream",
          "name": "stdout",
          "text": [
            "Rotation labels:  0     270   90    0    \n"
          ]
        }
      ]
    },
    {
      "cell_type": "markdown",
      "source": [
        "#Evaluation code"
      ],
      "metadata": {
        "id": "unCucbHexG4W"
      }
    },
    {
      "cell_type": "code",
      "source": [
        "import time\n",
        "\n",
        "def run_test(net, testloader, criterion, task):\n",
        "    correct = 0\n",
        "    total = 0\n",
        "    avg_test_loss = 0.0\n",
        "    # since we're not training, we don't need to calculate the gradients for our outputs\n",
        "    with torch.no_grad():\n",
        "        for images, images_rotated, labels, cls_labels in testloader:\n",
        "            if task == 'rotation':\n",
        "              images, labels = images_rotated.to(device), labels.to(device)\n",
        "            elif task == 'classification':\n",
        "              images, labels = images.to(device), cls_labels.to(device)\n",
        "            # TODO: Calculate outputs by running images through the network\n",
        "            # The class with the highest energy is what we choose as prediction\n",
        "            outputs = net(images)\n",
        "            predictions = outputs.squeeze(0).softmax(1).argmax(dim=1)\n",
        "            batch_correct = torch.sum(predictions == labels)\n",
        "            correct += batch_correct\n",
        "            total += predictions.shape[0]\n",
        "            # End TODO\n",
        "\n",
        "            # loss\n",
        "            avg_test_loss += criterion(outputs, labels)  / len(testloader)\n",
        "    \n",
        "    print('TESTING:')\n",
        "    print(f'Accuracy of the network on the 10000 test images: {100 * correct / total:.2f} %')\n",
        "    print(f'Average loss on the 10000 test images: {avg_test_loss:.3f}')"
      ],
      "metadata": {
        "id": "pptQRpqK0rOl"
      },
      "execution_count": 6,
      "outputs": []
    },
    {
      "cell_type": "code",
      "source": [
        "def adjust_learning_rate(optimizer, epoch, init_lr, decay_epochs=30):\n",
        "    \"\"\"Sets the learning rate to the initial LR decayed by 10 every 30 epochs\"\"\"\n",
        "    lr = init_lr * (0.1 ** (epoch // decay_epochs))\n",
        "    for param_group in optimizer.param_groups:\n",
        "        param_group['lr'] = lr"
      ],
      "metadata": {
        "id": "hf698c16A9k5"
      },
      "execution_count": 7,
      "outputs": []
    },
    {
      "cell_type": "markdown",
      "source": [
        "#Train a ResNet18 on the rotation task\n",
        "\n",
        "In this section, we will train a ResNet18 model on the rotation task. The input is a rotated image and the model predicts the rotation label. See the Data Setup section for details."
      ],
      "metadata": {
        "id": "3lYdnb1Wsta_"
      }
    },
    {
      "cell_type": "code",
      "source": [
        "device = 'cuda' if torch.cuda.is_available() else 'cpu'\n",
        "device"
      ],
      "metadata": {
        "id": "knAiwdURvBHk",
        "colab": {
          "base_uri": "https://localhost:8080/",
          "height": 35
        },
        "outputId": "0b18112e-8024-4906-e4f9-a592b2f58346"
      },
      "execution_count": 8,
      "outputs": [
        {
          "output_type": "execute_result",
          "data": {
            "text/plain": [
              "'cuda'"
            ],
            "application/vnd.google.colaboratory.intrinsic+json": {
              "type": "string"
            }
          },
          "metadata": {},
          "execution_count": 8
        }
      ]
    },
    {
      "cell_type": "code",
      "source": [
        "import torch.nn as nn\n",
        "import torch.nn.functional as F\n",
        "\n",
        "from torchvision.models import resnet18\n",
        "\n",
        "net = resnet18(num_classes=4)\n",
        "net = net.to(device)"
      ],
      "metadata": {
        "id": "235MEIUgsv65"
      },
      "execution_count": null,
      "outputs": []
    },
    {
      "cell_type": "code",
      "source": [
        "import torch.optim as optim\n",
        "criterion = nn.CrossEntropyLoss()\n",
        "optimizer = optim.Adam(net.parameters(), lr = 0.01) \n",
        "# Which to choose?? Are we free to choose what we like?\n",
        "\n",
        "# TODO: Define criterion and optimizer\n"
      ],
      "metadata": {
        "id": "Vuhiw0ZoszAd"
      },
      "execution_count": null,
      "outputs": []
    },
    {
      "cell_type": "code",
      "source": [
        "# Both the self-supervised rotation task and supervised CIFAR10 classification are\n",
        "# trained with the CrossEntropyLoss, so we can use the training loop code.\n",
        "\n",
        "def train(net, criterion, optimizer, num_epochs, decay_epochs, init_lr, task):\n",
        "\n",
        "    for epoch in range(num_epochs):  # loop over the dataset multiple times\n",
        "\n",
        "        running_loss = 0.0\n",
        "        running_correct = 0.0\n",
        "        running_total = 0.0\n",
        "        start_time = time.time()\n",
        "\n",
        "        net.train()\n",
        "\n",
        "        for i, (imgs, imgs_rotated, rotation_label, cls_label) in enumerate(trainloader, 0):\n",
        "            adjust_learning_rate(optimizer, epoch, init_lr, decay_epochs)\n",
        "\n",
        "            # TODO: Set the data to the correct device; Different task will use different inputs and labels\n",
        "            if task == 'rotation': \n",
        "                images, labels = imgs_rotated.to(device), rotation_label.to(device)\n",
        "            elif task == 'classification':\n",
        "                images, labels = imgs.to(device), cls_label.to(device)\n",
        "            else:\n",
        "                raise ValueError('Task should either be classification or rotation')\n",
        "\n",
        "            # TODO: Zero the parameter gradients\n",
        "            net.zero_grad()\n",
        "\n",
        "            # TODO: forward + backward + optimize\n",
        "            outputs = net(images) # forward\n",
        "            loss = criterion(outputs, labels) # loss calc\n",
        "            loss.backward() # backward pass\n",
        "            optimizer.step() # optimize\n",
        "\n",
        "            # TODO: Get predicted results\n",
        "            predicted = outputs.squeeze(0).softmax(1).argmax(dim=1)\n",
        "\n",
        "            # print statistics\n",
        "            print_freq = 100\n",
        "            running_loss += loss.item()\n",
        "\n",
        "            # calc acc\n",
        "            running_total += labels.size(0)\n",
        "            running_correct += (predicted == labels).sum().item()\n",
        "\n",
        "            if i % print_freq == (print_freq - 1):    # print every 2000 mini-batches\n",
        "                print(f'[{epoch + 1}, {i + 1:5d}] loss: {running_loss / print_freq:.3f} acc: {100*running_correct / running_total:.2f} time: {time.time() - start_time:.2f}')\n",
        "                running_loss, running_correct, running_total = 0.0, 0.0, 0.0\n",
        "                start_time = time.time()\n",
        "\n",
        "        # TODO: Run the run_test() function after each epoch; Set the model to the evaluation mode.\n",
        "        net.eval()\n",
        "        run_test(net, testloader, criterion, task)\n",
        "        # ENd of TODO\n",
        "\n",
        "    print('Finished Training')"
      ],
      "metadata": {
        "id": "WleH-YBgs0rq"
      },
      "execution_count": null,
      "outputs": []
    },
    {
      "cell_type": "code",
      "source": [
        "train(net, criterion, optimizer, num_epochs=45, decay_epochs=15, init_lr=0.01, task='rotation')\n",
        "\n",
        "# TODO: Save the model\n",
        "torch.save(net.state_dict(), '/content/drive/MyDrive/assignment3_starter/resnet18_weights')"
      ],
      "metadata": {
        "id": "2u4AsfAKtaQS",
        "colab": {
          "base_uri": "https://localhost:8080/"
        },
        "outputId": "dde5dbe5-4226-48ef-e281-5b7e3360dd4d"
      },
      "execution_count": null,
      "outputs": [
        {
          "output_type": "stream",
          "name": "stdout",
          "text": [
            "[1,   100] loss: 1.514 acc: 35.62 time: 15.05\n",
            "[1,   200] loss: 1.240 acc: 45.75 time: 9.43\n",
            "[1,   300] loss: 1.174 acc: 49.13 time: 7.79\n",
            "TESTING:\n",
            "Accuracy of the network on the 10000 test images: 49.23 %\n",
            "Average loss on the 10000 test images: 1.136\n",
            "[2,   100] loss: 1.110 acc: 51.04 time: 9.73\n",
            "[2,   200] loss: 1.090 acc: 53.06 time: 8.70\n",
            "[2,   300] loss: 1.068 acc: 53.83 time: 8.65\n",
            "TESTING:\n",
            "Accuracy of the network on the 10000 test images: 57.24 %\n",
            "Average loss on the 10000 test images: 1.006\n",
            "[3,   100] loss: 1.037 acc: 56.16 time: 9.99\n",
            "[3,   200] loss: 1.036 acc: 56.18 time: 9.17\n",
            "[3,   300] loss: 1.008 acc: 56.99 time: 9.57\n",
            "TESTING:\n",
            "Accuracy of the network on the 10000 test images: 58.78 %\n",
            "Average loss on the 10000 test images: 0.986\n",
            "[4,   100] loss: 0.998 acc: 57.87 time: 9.86\n",
            "[4,   200] loss: 0.971 acc: 58.94 time: 8.03\n",
            "[4,   300] loss: 0.966 acc: 59.34 time: 9.71\n",
            "TESTING:\n",
            "Accuracy of the network on the 10000 test images: 61.31 %\n",
            "Average loss on the 10000 test images: 0.928\n",
            "[5,   100] loss: 0.951 acc: 59.52 time: 8.21\n",
            "[5,   200] loss: 0.941 acc: 60.94 time: 9.51\n",
            "[5,   300] loss: 0.929 acc: 61.08 time: 9.78\n",
            "TESTING:\n",
            "Accuracy of the network on the 10000 test images: 60.85 %\n",
            "Average loss on the 10000 test images: 0.931\n",
            "[6,   100] loss: 0.900 acc: 62.16 time: 8.25\n",
            "[6,   200] loss: 0.910 acc: 61.55 time: 9.86\n",
            "[6,   300] loss: 0.895 acc: 62.73 time: 8.87\n",
            "TESTING:\n",
            "Accuracy of the network on the 10000 test images: 63.56 %\n",
            "Average loss on the 10000 test images: 0.896\n",
            "[7,   100] loss: 0.887 acc: 63.28 time: 9.45\n",
            "[7,   200] loss: 0.875 acc: 64.21 time: 9.66\n",
            "[7,   300] loss: 0.886 acc: 63.42 time: 8.08\n",
            "TESTING:\n",
            "Accuracy of the network on the 10000 test images: 65.40 %\n",
            "Average loss on the 10000 test images: 0.838\n",
            "[8,   100] loss: 0.860 acc: 64.72 time: 9.82\n",
            "[8,   200] loss: 0.863 acc: 64.20 time: 9.11\n",
            "[8,   300] loss: 0.857 acc: 64.74 time: 8.85\n",
            "TESTING:\n",
            "Accuracy of the network on the 10000 test images: 67.27 %\n",
            "Average loss on the 10000 test images: 0.813\n",
            "[9,   100] loss: 0.840 acc: 65.91 time: 9.86\n",
            "[9,   200] loss: 0.836 acc: 65.50 time: 8.07\n",
            "[9,   300] loss: 0.833 acc: 65.88 time: 9.54\n",
            "TESTING:\n",
            "Accuracy of the network on the 10000 test images: 65.00 %\n",
            "Average loss on the 10000 test images: 0.853\n",
            "[10,   100] loss: 0.830 acc: 65.67 time: 9.16\n",
            "[10,   200] loss: 0.818 acc: 66.45 time: 8.72\n",
            "[10,   300] loss: 0.814 acc: 66.88 time: 9.74\n",
            "TESTING:\n",
            "Accuracy of the network on the 10000 test images: 67.70 %\n",
            "Average loss on the 10000 test images: 0.785\n",
            "[11,   100] loss: 0.810 acc: 66.73 time: 8.03\n",
            "[11,   200] loss: 0.810 acc: 67.27 time: 9.67\n",
            "[11,   300] loss: 0.794 acc: 67.85 time: 9.46\n",
            "TESTING:\n",
            "Accuracy of the network on the 10000 test images: 69.77 %\n",
            "Average loss on the 10000 test images: 0.749\n",
            "[12,   100] loss: 0.777 acc: 68.17 time: 8.94\n",
            "[12,   200] loss: 0.787 acc: 68.34 time: 9.52\n",
            "[12,   300] loss: 0.783 acc: 68.02 time: 7.80\n",
            "TESTING:\n",
            "Accuracy of the network on the 10000 test images: 68.71 %\n",
            "Average loss on the 10000 test images: 0.763\n",
            "[13,   100] loss: 0.776 acc: 68.64 time: 9.66\n",
            "[13,   200] loss: 0.775 acc: 68.40 time: 8.59\n",
            "[13,   300] loss: 0.760 acc: 69.47 time: 8.66\n",
            "TESTING:\n",
            "Accuracy of the network on the 10000 test images: 68.86 %\n",
            "Average loss on the 10000 test images: 0.770\n",
            "[14,   100] loss: 0.771 acc: 68.80 time: 9.53\n",
            "[14,   200] loss: 0.755 acc: 69.45 time: 8.22\n",
            "[14,   300] loss: 0.755 acc: 69.31 time: 9.74\n",
            "TESTING:\n",
            "Accuracy of the network on the 10000 test images: 69.69 %\n",
            "Average loss on the 10000 test images: 0.749\n",
            "[15,   100] loss: 0.736 acc: 70.84 time: 8.80\n",
            "[15,   200] loss: 0.741 acc: 70.16 time: 8.60\n",
            "[15,   300] loss: 0.722 acc: 71.05 time: 9.49\n",
            "TESTING:\n",
            "Accuracy of the network on the 10000 test images: 71.04 %\n",
            "Average loss on the 10000 test images: 0.731\n",
            "[16,   100] loss: 0.686 acc: 72.62 time: 8.06\n",
            "[16,   200] loss: 0.678 acc: 73.14 time: 9.83\n",
            "[16,   300] loss: 0.655 acc: 73.71 time: 9.20\n",
            "TESTING:\n",
            "Accuracy of the network on the 10000 test images: 74.58 %\n",
            "Average loss on the 10000 test images: 0.631\n",
            "[17,   100] loss: 0.648 acc: 74.58 time: 9.31\n",
            "[17,   200] loss: 0.647 acc: 74.30 time: 9.47\n",
            "[17,   300] loss: 0.659 acc: 73.78 time: 7.87\n",
            "TESTING:\n",
            "Accuracy of the network on the 10000 test images: 74.99 %\n",
            "Average loss on the 10000 test images: 0.629\n",
            "[18,   100] loss: 0.645 acc: 74.44 time: 9.94\n",
            "[18,   200] loss: 0.648 acc: 74.18 time: 8.99\n",
            "[18,   300] loss: 0.635 acc: 74.80 time: 8.96\n",
            "TESTING:\n",
            "Accuracy of the network on the 10000 test images: 75.56 %\n",
            "Average loss on the 10000 test images: 0.613\n",
            "[19,   100] loss: 0.636 acc: 74.77 time: 9.80\n",
            "[19,   200] loss: 0.635 acc: 75.12 time: 7.90\n",
            "[19,   300] loss: 0.642 acc: 74.73 time: 9.69\n",
            "TESTING:\n",
            "Accuracy of the network on the 10000 test images: 75.84 %\n",
            "Average loss on the 10000 test images: 0.615\n",
            "[20,   100] loss: 0.629 acc: 75.16 time: 9.31\n",
            "[20,   200] loss: 0.633 acc: 74.91 time: 8.47\n",
            "[20,   300] loss: 0.628 acc: 75.38 time: 9.82\n",
            "TESTING:\n",
            "Accuracy of the network on the 10000 test images: 76.40 %\n",
            "Average loss on the 10000 test images: 0.601\n",
            "[21,   100] loss: 0.624 acc: 75.38 time: 8.32\n",
            "[21,   200] loss: 0.617 acc: 75.65 time: 9.60\n",
            "[21,   300] loss: 0.624 acc: 75.43 time: 9.15\n",
            "TESTING:\n",
            "Accuracy of the network on the 10000 test images: 76.48 %\n",
            "Average loss on the 10000 test images: 0.592\n",
            "[22,   100] loss: 0.611 acc: 75.58 time: 9.22\n",
            "[22,   200] loss: 0.609 acc: 75.83 time: 9.52\n",
            "[22,   300] loss: 0.622 acc: 75.47 time: 8.04\n",
            "TESTING:\n",
            "Accuracy of the network on the 10000 test images: 76.71 %\n",
            "Average loss on the 10000 test images: 0.600\n",
            "[23,   100] loss: 0.606 acc: 76.36 time: 9.60\n",
            "[23,   200] loss: 0.611 acc: 76.00 time: 8.94\n",
            "[23,   300] loss: 0.616 acc: 75.47 time: 8.59\n",
            "TESTING:\n",
            "Accuracy of the network on the 10000 test images: 76.95 %\n",
            "Average loss on the 10000 test images: 0.588\n",
            "[24,   100] loss: 0.602 acc: 76.71 time: 9.98\n",
            "[24,   200] loss: 0.602 acc: 76.52 time: 8.11\n",
            "[24,   300] loss: 0.603 acc: 76.16 time: 9.54\n",
            "TESTING:\n",
            "Accuracy of the network on the 10000 test images: 77.40 %\n",
            "Average loss on the 10000 test images: 0.584\n",
            "[25,   100] loss: 0.607 acc: 76.70 time: 8.87\n",
            "[25,   200] loss: 0.598 acc: 76.45 time: 8.85\n",
            "[25,   300] loss: 0.598 acc: 76.45 time: 9.77\n",
            "TESTING:\n",
            "Accuracy of the network on the 10000 test images: 76.70 %\n",
            "Average loss on the 10000 test images: 0.588\n",
            "[26,   100] loss: 0.595 acc: 76.95 time: 8.00\n",
            "[26,   200] loss: 0.584 acc: 77.29 time: 9.76\n",
            "[26,   300] loss: 0.599 acc: 76.42 time: 8.95\n",
            "TESTING:\n",
            "Accuracy of the network on the 10000 test images: 76.89 %\n",
            "Average loss on the 10000 test images: 0.589\n",
            "[27,   100] loss: 0.594 acc: 76.41 time: 9.65\n",
            "[27,   200] loss: 0.593 acc: 76.41 time: 9.49\n",
            "[27,   300] loss: 0.590 acc: 77.09 time: 7.83\n",
            "TESTING:\n",
            "Accuracy of the network on the 10000 test images: 77.51 %\n",
            "Average loss on the 10000 test images: 0.575\n",
            "[28,   100] loss: 0.590 acc: 76.73 time: 9.62\n",
            "[28,   200] loss: 0.593 acc: 76.69 time: 7.93\n",
            "[28,   300] loss: 0.600 acc: 76.44 time: 9.26\n",
            "TESTING:\n",
            "Accuracy of the network on the 10000 test images: 77.89 %\n",
            "Average loss on the 10000 test images: 0.569\n",
            "[29,   100] loss: 0.592 acc: 76.73 time: 9.43\n",
            "[29,   200] loss: 0.577 acc: 77.55 time: 7.75\n",
            "[29,   300] loss: 0.590 acc: 76.87 time: 9.58\n",
            "TESTING:\n",
            "Accuracy of the network on the 10000 test images: 77.73 %\n",
            "Average loss on the 10000 test images: 0.568\n",
            "[30,   100] loss: 0.590 acc: 76.99 time: 7.94\n",
            "[30,   200] loss: 0.572 acc: 77.55 time: 9.58\n",
            "[30,   300] loss: 0.572 acc: 77.30 time: 9.37\n",
            "TESTING:\n",
            "Accuracy of the network on the 10000 test images: 77.95 %\n",
            "Average loss on the 10000 test images: 0.571\n",
            "[31,   100] loss: 0.582 acc: 77.31 time: 8.96\n",
            "[31,   200] loss: 0.577 acc: 77.16 time: 9.37\n",
            "[31,   300] loss: 0.568 acc: 78.03 time: 7.77\n",
            "TESTING:\n",
            "Accuracy of the network on the 10000 test images: 78.46 %\n",
            "Average loss on the 10000 test images: 0.559\n",
            "[32,   100] loss: 0.568 acc: 78.15 time: 9.63\n",
            "[32,   200] loss: 0.565 acc: 77.87 time: 8.37\n",
            "[32,   300] loss: 0.558 acc: 78.17 time: 8.78\n",
            "TESTING:\n",
            "Accuracy of the network on the 10000 test images: 78.51 %\n",
            "Average loss on the 10000 test images: 0.557\n",
            "[33,   100] loss: 0.568 acc: 77.59 time: 9.32\n",
            "[33,   200] loss: 0.564 acc: 78.28 time: 8.07\n",
            "[33,   300] loss: 0.566 acc: 78.14 time: 9.36\n",
            "TESTING:\n",
            "Accuracy of the network on the 10000 test images: 78.34 %\n",
            "Average loss on the 10000 test images: 0.561\n",
            "[34,   100] loss: 0.573 acc: 77.62 time: 7.95\n",
            "[34,   200] loss: 0.563 acc: 77.87 time: 9.26\n",
            "[34,   300] loss: 0.561 acc: 78.12 time: 8.89\n",
            "TESTING:\n",
            "Accuracy of the network on the 10000 test images: 78.61 %\n",
            "Average loss on the 10000 test images: 0.560\n",
            "[35,   100] loss: 0.563 acc: 78.01 time: 8.99\n",
            "[35,   200] loss: 0.558 acc: 78.38 time: 9.23\n",
            "[35,   300] loss: 0.566 acc: 77.84 time: 7.57\n",
            "TESTING:\n",
            "Accuracy of the network on the 10000 test images: 78.47 %\n",
            "Average loss on the 10000 test images: 0.556\n",
            "[36,   100] loss: 0.560 acc: 78.31 time: 9.38\n",
            "[36,   200] loss: 0.558 acc: 78.55 time: 8.28\n",
            "[36,   300] loss: 0.564 acc: 78.22 time: 9.08\n",
            "TESTING:\n",
            "Accuracy of the network on the 10000 test images: 78.28 %\n",
            "Average loss on the 10000 test images: 0.559\n",
            "[37,   100] loss: 0.559 acc: 78.04 time: 9.62\n",
            "[37,   200] loss: 0.571 acc: 77.31 time: 7.78\n",
            "[37,   300] loss: 0.562 acc: 77.98 time: 9.26\n",
            "TESTING:\n",
            "Accuracy of the network on the 10000 test images: 78.16 %\n",
            "Average loss on the 10000 test images: 0.555\n",
            "[38,   100] loss: 0.558 acc: 78.21 time: 7.93\n",
            "[38,   200] loss: 0.562 acc: 77.75 time: 9.25\n",
            "[38,   300] loss: 0.568 acc: 77.48 time: 9.06\n",
            "TESTING:\n",
            "Accuracy of the network on the 10000 test images: 78.66 %\n",
            "Average loss on the 10000 test images: 0.553\n",
            "[39,   100] loss: 0.572 acc: 77.37 time: 8.99\n",
            "[39,   200] loss: 0.561 acc: 77.94 time: 9.48\n",
            "[39,   300] loss: 0.554 acc: 78.40 time: 7.90\n",
            "TESTING:\n",
            "Accuracy of the network on the 10000 test images: 78.31 %\n",
            "Average loss on the 10000 test images: 0.554\n",
            "[40,   100] loss: 0.553 acc: 78.23 time: 9.66\n",
            "[40,   200] loss: 0.570 acc: 77.95 time: 8.26\n",
            "[40,   300] loss: 0.560 acc: 78.23 time: 8.86\n",
            "TESTING:\n",
            "Accuracy of the network on the 10000 test images: 78.16 %\n",
            "Average loss on the 10000 test images: 0.557\n",
            "[41,   100] loss: 0.571 acc: 77.80 time: 9.63\n",
            "[41,   200] loss: 0.554 acc: 78.59 time: 7.69\n",
            "[41,   300] loss: 0.564 acc: 77.75 time: 9.41\n",
            "TESTING:\n",
            "Accuracy of the network on the 10000 test images: 78.33 %\n",
            "Average loss on the 10000 test images: 0.553\n",
            "[42,   100] loss: 0.553 acc: 78.80 time: 8.01\n",
            "[42,   200] loss: 0.565 acc: 78.10 time: 9.51\n",
            "[42,   300] loss: 0.566 acc: 77.75 time: 9.41\n",
            "TESTING:\n",
            "Accuracy of the network on the 10000 test images: 78.57 %\n",
            "Average loss on the 10000 test images: 0.554\n",
            "[43,   100] loss: 0.562 acc: 77.96 time: 8.81\n",
            "[43,   200] loss: 0.556 acc: 78.38 time: 9.35\n",
            "[43,   300] loss: 0.545 acc: 78.46 time: 7.80\n",
            "TESTING:\n",
            "Accuracy of the network on the 10000 test images: 78.79 %\n",
            "Average loss on the 10000 test images: 0.553\n",
            "[44,   100] loss: 0.550 acc: 78.47 time: 9.64\n",
            "[44,   200] loss: 0.550 acc: 78.43 time: 8.28\n",
            "[44,   300] loss: 0.560 acc: 78.21 time: 8.97\n",
            "TESTING:\n",
            "Accuracy of the network on the 10000 test images: 77.79 %\n",
            "Average loss on the 10000 test images: 0.559\n",
            "[45,   100] loss: 0.568 acc: 78.23 time: 9.55\n",
            "[45,   200] loss: 0.547 acc: 78.45 time: 8.05\n",
            "[45,   300] loss: 0.560 acc: 78.48 time: 9.58\n",
            "TESTING:\n",
            "Accuracy of the network on the 10000 test images: 78.72 %\n",
            "Average loss on the 10000 test images: 0.547\n",
            "Finished Training\n"
          ]
        }
      ]
    },
    {
      "cell_type": "markdown",
      "source": [
        "##Fine-tuning on the pre-trained model\n",
        "\n",
        "In this section, we will load the pre-trained ResNet18 model and fine-tune on the classification task. We will freeze all previous layers except for the 'layer4' block and 'fc' layer."
      ],
      "metadata": {
        "id": "PLLMRTS9rTnk"
      }
    },
    {
      "cell_type": "code",
      "source": [
        "import torch.nn as nn\n",
        "import torch.nn.functional as F\n",
        "\n",
        "from torchvision.models import resnet18\n",
        "\n",
        "# TODO: Load the pre-trained ResNet18 model\n",
        "saved_state_dict = torch.load('/content/drive/MyDrive/assignment3_starter/resnet18_weights')\n",
        "loaded_net = resnet18(num_classes=4)\n",
        "loaded_net.load_state_dict(saved_state_dict)\n",
        "loaded_net = loaded_net.to(device)\n",
        "run_test(loaded_net, testloader, criterion, 'rotation') # Verification, should give ~78% accuracy\n",
        "# we also need to change no of outputs for the image label classification task\n",
        "# to do this, reference : https://discuss.pytorch.org/t/how-to-reshape-last-layer-of-pytorch-cnn-model-while-doing-transfer-learning/62681/2 \n",
        "old_input_features = loaded_net.fc.in_features\n",
        "loaded_net.fc = nn.Linear(old_input_features, 10)\n",
        "loaded_net = loaded_net.to(device)  # this is necessary after replacing the fc layer"
      ],
      "metadata": {
        "id": "S4nX4ExlrymI",
        "colab": {
          "base_uri": "https://localhost:8080/"
        },
        "outputId": "746a966f-0c16-4fa5-e0c7-790850ec05ff"
      },
      "execution_count": null,
      "outputs": [
        {
          "output_type": "stream",
          "name": "stdout",
          "text": [
            "TESTING:\n",
            "Accuracy of the network on the 10000 test images: 77.00 %\n",
            "Average loss on the 10000 test images: 0.596\n"
          ]
        }
      ]
    },
    {
      "cell_type": "code",
      "source": [
        "#run_test(net, testloader, criterion, 'rotation')\n",
        "run_test(loaded_net, testloader, criterion, 'classification')  # should be close to random (10%) since model hasn't been trained on CIFAR-10 labels yet\n",
        "#run_test(net, testloader, criterion, 'classification')"
      ],
      "metadata": {
        "id": "YL8tOq2c2JCk",
        "colab": {
          "base_uri": "https://localhost:8080/"
        },
        "outputId": "0a470e88-9a9e-4e17-895f-e3639eed0125"
      },
      "execution_count": null,
      "outputs": [
        {
          "output_type": "stream",
          "name": "stdout",
          "text": [
            "TESTING:\n",
            "Accuracy of the network on the 10000 test images: 10.77 %\n",
            "Average loss on the 10000 test images: 2.311\n"
          ]
        }
      ]
    },
    {
      "cell_type": "code",
      "source": [
        "# TODO: Freeze all previous layers; only keep the 'layer4' block and 'fc' layer trainable\n",
        "# To do this, you should set requires_grad=False for the frozen layers.\n",
        "for param in loaded_net.parameters():\n",
        "    param.requires_grad = False\n",
        "for param in loaded_net.layer4.parameters():\n",
        "    param.requires_grad = True\n",
        "for param in loaded_net.fc.parameters():\n",
        "    param.requires_grad = True"
      ],
      "metadata": {
        "id": "kD44g-TxwYdU"
      },
      "execution_count": null,
      "outputs": []
    },
    {
      "cell_type": "code",
      "source": [
        "print(type(loaded_net))\n",
        "print(type(loaded_net.parameters))\n",
        "print(type(loaded_net.layer4))\n",
        "print(type(loaded_net.fc))\n",
        "# print(type(loaded_net.features))\n",
        "print(type(loaded_net.layer4.parameters))\n",
        "print(type(loaded_net.fc.parameters))\n",
        "# print(type(loaded_net.features.parameters))\n",
        "#print(loaded_net)"
      ],
      "metadata": {
        "colab": {
          "base_uri": "https://localhost:8080/"
        },
        "id": "sYwp4qCwC3nl",
        "outputId": "7ab7c492-8941-45e6-a89f-e82f97be408b"
      },
      "execution_count": null,
      "outputs": [
        {
          "output_type": "stream",
          "name": "stdout",
          "text": [
            "<class 'torchvision.models.resnet.ResNet'>\n",
            "<class 'method'>\n",
            "<class 'torch.nn.modules.container.Sequential'>\n",
            "<class 'torch.nn.modules.linear.Linear'>\n",
            "<class 'method'>\n",
            "<class 'method'>\n"
          ]
        }
      ]
    },
    {
      "cell_type": "code",
      "source": [
        "# Print all the trainable parameters (they should be parameters of the last 2 layers)\n",
        "params_to_update = loaded_net.parameters()\n",
        "print(\"Params to learn:\")\n",
        "params_to_update = []\n",
        "for name,param in loaded_net.named_parameters():\n",
        "    if param.requires_grad == True:\n",
        "        params_to_update.append(param)\n",
        "        print(\"\\t\",name)"
      ],
      "metadata": {
        "id": "9T5DX0efr4fh",
        "colab": {
          "base_uri": "https://localhost:8080/"
        },
        "outputId": "091c6962-29d4-43c5-afb7-e339889436ec"
      },
      "execution_count": null,
      "outputs": [
        {
          "output_type": "stream",
          "name": "stdout",
          "text": [
            "Params to learn:\n",
            "\t layer4.0.conv1.weight\n",
            "\t layer4.0.bn1.weight\n",
            "\t layer4.0.bn1.bias\n",
            "\t layer4.0.conv2.weight\n",
            "\t layer4.0.bn2.weight\n",
            "\t layer4.0.bn2.bias\n",
            "\t layer4.0.downsample.0.weight\n",
            "\t layer4.0.downsample.1.weight\n",
            "\t layer4.0.downsample.1.bias\n",
            "\t layer4.1.conv1.weight\n",
            "\t layer4.1.bn1.weight\n",
            "\t layer4.1.bn1.bias\n",
            "\t layer4.1.conv2.weight\n",
            "\t layer4.1.bn2.weight\n",
            "\t layer4.1.bn2.bias\n",
            "\t fc.weight\n",
            "\t fc.bias\n"
          ]
        }
      ]
    },
    {
      "cell_type": "code",
      "source": [
        "# TODO: Define criterion and optimizer\n",
        "# Note that your optimizer only needs to update the parameters that are trainable.\n",
        "criterion = nn.CrossEntropyLoss()\n",
        "optimizer = optim.Adam(params_to_update, lr = 0.01) "
      ],
      "metadata": {
        "id": "xb032dG700ph"
      },
      "execution_count": null,
      "outputs": []
    },
    {
      "cell_type": "code",
      "source": [
        "train(loaded_net, criterion, optimizer, num_epochs=20, decay_epochs=10, init_lr=0.01, task='classification')\n",
        "torch.save(loaded_net.state_dict(), '/content/drive/MyDrive/assignment3_starter/pretrained_resnet18_last_two_layers_fine_tuned_weights')"
      ],
      "metadata": {
        "id": "3vLSwOo6sBjl",
        "colab": {
          "base_uri": "https://localhost:8080/"
        },
        "outputId": "d1bef3b8-fbc1-4ac7-9467-5cf10b41a9d7"
      },
      "execution_count": null,
      "outputs": [
        {
          "output_type": "stream",
          "name": "stdout",
          "text": [
            "[1,   100] loss: 1.838 acc: 31.10 time: 8.93\n",
            "[1,   200] loss: 1.558 acc: 42.81 time: 8.37\n",
            "[1,   300] loss: 1.501 acc: 45.76 time: 7.39\n",
            "TESTING:\n",
            "Accuracy of the network on the 10000 test images: 47.04 %\n",
            "Average loss on the 10000 test images: 1.488\n",
            "[2,   100] loss: 1.433 acc: 47.55 time: 8.39\n",
            "[2,   200] loss: 1.407 acc: 48.63 time: 7.79\n",
            "[2,   300] loss: 1.399 acc: 49.45 time: 8.62\n",
            "TESTING:\n",
            "Accuracy of the network on the 10000 test images: 50.92 %\n",
            "Average loss on the 10000 test images: 1.355\n",
            "[3,   100] loss: 1.364 acc: 50.12 time: 7.89\n",
            "[3,   200] loss: 1.358 acc: 50.91 time: 8.62\n",
            "[3,   300] loss: 1.367 acc: 50.66 time: 7.12\n",
            "TESTING:\n",
            "Accuracy of the network on the 10000 test images: 52.36 %\n",
            "Average loss on the 10000 test images: 1.320\n",
            "[4,   100] loss: 1.344 acc: 51.90 time: 8.90\n",
            "[4,   200] loss: 1.356 acc: 50.52 time: 6.88\n",
            "[4,   300] loss: 1.323 acc: 51.94 time: 8.69\n",
            "TESTING:\n",
            "Accuracy of the network on the 10000 test images: 52.59 %\n",
            "Average loss on the 10000 test images: 1.319\n",
            "[5,   100] loss: 1.332 acc: 51.78 time: 7.27\n",
            "[5,   200] loss: 1.306 acc: 52.62 time: 8.79\n",
            "[5,   300] loss: 1.313 acc: 52.09 time: 7.08\n",
            "TESTING:\n",
            "Accuracy of the network on the 10000 test images: 54.03 %\n",
            "Average loss on the 10000 test images: 1.278\n",
            "[6,   100] loss: 1.305 acc: 52.52 time: 9.01\n",
            "[6,   200] loss: 1.296 acc: 53.44 time: 7.07\n",
            "[6,   300] loss: 1.317 acc: 52.44 time: 8.73\n",
            "TESTING:\n",
            "Accuracy of the network on the 10000 test images: 54.59 %\n",
            "Average loss on the 10000 test images: 1.280\n",
            "[7,   100] loss: 1.280 acc: 53.51 time: 7.28\n",
            "[7,   200] loss: 1.302 acc: 53.12 time: 8.56\n",
            "[7,   300] loss: 1.285 acc: 53.12 time: 6.94\n",
            "TESTING:\n",
            "Accuracy of the network on the 10000 test images: 55.14 %\n",
            "Average loss on the 10000 test images: 1.250\n",
            "[8,   100] loss: 1.256 acc: 55.10 time: 8.85\n",
            "[8,   200] loss: 1.293 acc: 53.93 time: 7.09\n",
            "[8,   300] loss: 1.281 acc: 54.02 time: 8.95\n",
            "TESTING:\n",
            "Accuracy of the network on the 10000 test images: 56.23 %\n",
            "Average loss on the 10000 test images: 1.226\n",
            "[9,   100] loss: 1.284 acc: 53.97 time: 7.20\n",
            "[9,   200] loss: 1.265 acc: 54.39 time: 8.71\n",
            "[9,   300] loss: 1.259 acc: 55.13 time: 7.69\n",
            "TESTING:\n",
            "Accuracy of the network on the 10000 test images: 55.41 %\n",
            "Average loss on the 10000 test images: 1.253\n",
            "[10,   100] loss: 1.277 acc: 54.24 time: 8.95\n",
            "[10,   200] loss: 1.257 acc: 54.87 time: 7.75\n",
            "[10,   300] loss: 1.244 acc: 54.86 time: 8.19\n",
            "TESTING:\n",
            "Accuracy of the network on the 10000 test images: 56.00 %\n",
            "Average loss on the 10000 test images: 1.231\n",
            "[11,   100] loss: 1.235 acc: 55.54 time: 7.93\n",
            "[11,   200] loss: 1.216 acc: 56.12 time: 8.21\n",
            "[11,   300] loss: 1.201 acc: 56.38 time: 8.62\n",
            "TESTING:\n",
            "Accuracy of the network on the 10000 test images: 57.83 %\n",
            "Average loss on the 10000 test images: 1.173\n",
            "[12,   100] loss: 1.205 acc: 56.67 time: 8.41\n",
            "[12,   200] loss: 1.195 acc: 57.30 time: 8.66\n",
            "[12,   300] loss: 1.192 acc: 57.18 time: 7.01\n",
            "TESTING:\n",
            "Accuracy of the network on the 10000 test images: 58.38 %\n",
            "Average loss on the 10000 test images: 1.164\n",
            "[13,   100] loss: 1.191 acc: 57.21 time: 8.72\n",
            "[13,   200] loss: 1.196 acc: 56.37 time: 7.33\n",
            "[13,   300] loss: 1.187 acc: 57.37 time: 8.75\n",
            "TESTING:\n",
            "Accuracy of the network on the 10000 test images: 58.37 %\n",
            "Average loss on the 10000 test images: 1.161\n",
            "[14,   100] loss: 1.175 acc: 58.00 time: 7.91\n",
            "[14,   200] loss: 1.187 acc: 56.22 time: 8.73\n",
            "[14,   300] loss: 1.182 acc: 57.79 time: 7.09\n",
            "TESTING:\n",
            "Accuracy of the network on the 10000 test images: 58.62 %\n",
            "Average loss on the 10000 test images: 1.156\n",
            "[15,   100] loss: 1.182 acc: 57.32 time: 9.22\n",
            "[15,   200] loss: 1.186 acc: 57.29 time: 7.25\n",
            "[15,   300] loss: 1.182 acc: 57.37 time: 8.84\n",
            "TESTING:\n",
            "Accuracy of the network on the 10000 test images: 58.75 %\n",
            "Average loss on the 10000 test images: 1.164\n",
            "[16,   100] loss: 1.170 acc: 57.84 time: 7.16\n",
            "[16,   200] loss: 1.176 acc: 57.41 time: 8.80\n",
            "[16,   300] loss: 1.185 acc: 57.32 time: 7.15\n",
            "TESTING:\n",
            "Accuracy of the network on the 10000 test images: 58.61 %\n",
            "Average loss on the 10000 test images: 1.152\n",
            "[17,   100] loss: 1.159 acc: 58.30 time: 8.96\n",
            "[17,   200] loss: 1.184 acc: 57.97 time: 7.18\n",
            "[17,   300] loss: 1.189 acc: 57.67 time: 8.78\n",
            "TESTING:\n",
            "Accuracy of the network on the 10000 test images: 58.48 %\n",
            "Average loss on the 10000 test images: 1.162\n",
            "[18,   100] loss: 1.187 acc: 57.26 time: 7.39\n",
            "[18,   200] loss: 1.167 acc: 58.25 time: 8.90\n",
            "[18,   300] loss: 1.170 acc: 57.60 time: 8.46\n",
            "TESTING:\n",
            "Accuracy of the network on the 10000 test images: 58.82 %\n",
            "Average loss on the 10000 test images: 1.152\n",
            "[19,   100] loss: 1.169 acc: 58.20 time: 7.36\n",
            "[19,   200] loss: 1.173 acc: 57.62 time: 8.93\n",
            "[19,   300] loss: 1.174 acc: 57.35 time: 7.35\n",
            "TESTING:\n",
            "Accuracy of the network on the 10000 test images: 58.95 %\n",
            "Average loss on the 10000 test images: 1.145\n",
            "[20,   100] loss: 1.180 acc: 57.27 time: 9.14\n",
            "[20,   200] loss: 1.167 acc: 57.74 time: 7.32\n",
            "[20,   300] loss: 1.164 acc: 58.17 time: 9.05\n",
            "TESTING:\n",
            "Accuracy of the network on the 10000 test images: 59.01 %\n",
            "Average loss on the 10000 test images: 1.144\n",
            "Finished Training\n"
          ]
        }
      ]
    },
    {
      "cell_type": "markdown",
      "source": [
        "## Fine-tuning on the randomly initialized model\n",
        "In this section, we will randomly initialize a ResNet18 model and fine-tune on the classification task. We will freeze all previous layers except for the 'layer4' block and 'fc' layer."
      ],
      "metadata": {
        "id": "ghPNhcJBrcNj"
      }
    },
    {
      "cell_type": "code",
      "source": [
        "import torch.nn as nn\n",
        "import torch.nn.functional as F\n",
        "\n",
        "from torchvision.models import resnet18\n",
        "\n",
        "# TODO: Randomly initialize a ResNet18 model\n",
        "r_init_net = resnet18(num_classes=10).to(device)"
      ],
      "metadata": {
        "id": "2RfXAh9vxXRB"
      },
      "execution_count": null,
      "outputs": []
    },
    {
      "cell_type": "code",
      "source": [
        "# TODO: Freeze all previous layers; only keep the 'layer4' block and 'fc' layer trainable\n",
        "# To do this, you should set requires_grad=False for the frozen layers.\n",
        "for param in r_init_net.parameters():\n",
        "    param.requires_grad = False\n",
        "for param in r_init_net.layer4.parameters():\n",
        "    param.requires_grad = True\n",
        "for param in r_init_net.fc.parameters():\n",
        "    param.requires_grad = True"
      ],
      "metadata": {
        "id": "fpx-SYAizt4p"
      },
      "execution_count": null,
      "outputs": []
    },
    {
      "cell_type": "code",
      "source": [
        "# Print all the trainable parameters\n",
        "params_to_update = r_init_net.parameters()\n",
        "print(\"Params to learn:\")\n",
        "params_to_update = []\n",
        "for name,param in r_init_net.named_parameters():\n",
        "    if param.requires_grad == True:\n",
        "        params_to_update.append(param)\n",
        "        print(\"\\t\",name)"
      ],
      "metadata": {
        "id": "BUFWizbHxgm2",
        "colab": {
          "base_uri": "https://localhost:8080/"
        },
        "outputId": "1dea6e1c-e658-43c3-9893-e9ca15be1514"
      },
      "execution_count": null,
      "outputs": [
        {
          "output_type": "stream",
          "name": "stdout",
          "text": [
            "Params to learn:\n",
            "\t layer4.0.conv1.weight\n",
            "\t layer4.0.bn1.weight\n",
            "\t layer4.0.bn1.bias\n",
            "\t layer4.0.conv2.weight\n",
            "\t layer4.0.bn2.weight\n",
            "\t layer4.0.bn2.bias\n",
            "\t layer4.0.downsample.0.weight\n",
            "\t layer4.0.downsample.1.weight\n",
            "\t layer4.0.downsample.1.bias\n",
            "\t layer4.1.conv1.weight\n",
            "\t layer4.1.bn1.weight\n",
            "\t layer4.1.bn1.bias\n",
            "\t layer4.1.conv2.weight\n",
            "\t layer4.1.bn2.weight\n",
            "\t layer4.1.bn2.bias\n",
            "\t fc.weight\n",
            "\t fc.bias\n"
          ]
        }
      ]
    },
    {
      "cell_type": "code",
      "source": [
        "# TODO: Define criterion and optimizer\n",
        "# Note that your optimizer only needs to update the parameters that are trainable.\n",
        "criterion = nn.CrossEntropyLoss()\n",
        "optimizer = optim.Adam(params_to_update, lr = 0.01)"
      ],
      "metadata": {
        "id": "BxFrGj091AN_"
      },
      "execution_count": null,
      "outputs": []
    },
    {
      "cell_type": "code",
      "source": [
        "train(r_init_net, criterion, optimizer, num_epochs=20, decay_epochs=10, init_lr=0.01, task='classification')\n",
        "torch.save(r_init_net.state_dict(), '/content/drive/MyDrive/assignment3_starter/random_init_resnet18_last_two_layers_fine_tuned_weights')"
      ],
      "metadata": {
        "id": "GzRVy0MZxpoL",
        "colab": {
          "base_uri": "https://localhost:8080/"
        },
        "outputId": "a8790bca-3b46-41c0-f0d2-cadab1f7315a"
      },
      "execution_count": null,
      "outputs": [
        {
          "output_type": "stream",
          "name": "stdout",
          "text": [
            "[1,   100] loss: 2.236 acc: 25.30 time: 9.09\n",
            "[1,   200] loss: 1.924 acc: 30.27 time: 7.40\n",
            "[1,   300] loss: 1.882 acc: 32.55 time: 8.90\n",
            "TESTING:\n",
            "Accuracy of the network on the 10000 test images: 35.99 %\n",
            "Average loss on the 10000 test images: 1.751\n",
            "[2,   100] loss: 1.824 acc: 33.72 time: 7.35\n",
            "[2,   200] loss: 1.788 acc: 34.62 time: 8.83\n",
            "[2,   300] loss: 1.788 acc: 35.23 time: 7.86\n",
            "TESTING:\n",
            "Accuracy of the network on the 10000 test images: 39.16 %\n",
            "Average loss on the 10000 test images: 1.690\n",
            "[3,   100] loss: 1.756 acc: 36.84 time: 9.01\n",
            "[3,   200] loss: 1.756 acc: 36.74 time: 8.03\n",
            "[3,   300] loss: 1.749 acc: 36.34 time: 8.11\n",
            "TESTING:\n",
            "Accuracy of the network on the 10000 test images: 38.83 %\n",
            "Average loss on the 10000 test images: 1.674\n",
            "[4,   100] loss: 1.719 acc: 37.86 time: 8.04\n",
            "[4,   200] loss: 1.728 acc: 37.70 time: 8.25\n",
            "[4,   300] loss: 1.729 acc: 37.35 time: 8.85\n",
            "TESTING:\n",
            "Accuracy of the network on the 10000 test images: 40.35 %\n",
            "Average loss on the 10000 test images: 1.651\n",
            "[5,   100] loss: 1.700 acc: 39.01 time: 8.36\n",
            "[5,   200] loss: 1.721 acc: 37.40 time: 8.87\n",
            "[5,   300] loss: 1.700 acc: 38.16 time: 7.17\n",
            "TESTING:\n",
            "Accuracy of the network on the 10000 test images: 40.92 %\n",
            "Average loss on the 10000 test images: 1.646\n",
            "[6,   100] loss: 1.689 acc: 39.49 time: 9.09\n",
            "[6,   200] loss: 1.690 acc: 39.39 time: 7.24\n",
            "[6,   300] loss: 1.700 acc: 38.53 time: 8.81\n",
            "TESTING:\n",
            "Accuracy of the network on the 10000 test images: 41.35 %\n",
            "Average loss on the 10000 test images: 1.621\n",
            "[7,   100] loss: 1.688 acc: 39.29 time: 7.29\n",
            "[7,   200] loss: 1.675 acc: 39.80 time: 8.93\n",
            "[7,   300] loss: 1.688 acc: 38.92 time: 7.27\n",
            "TESTING:\n",
            "Accuracy of the network on the 10000 test images: 41.35 %\n",
            "Average loss on the 10000 test images: 1.628\n",
            "[8,   100] loss: 1.668 acc: 39.45 time: 9.07\n",
            "[8,   200] loss: 1.664 acc: 40.02 time: 7.09\n",
            "[8,   300] loss: 1.667 acc: 39.61 time: 8.85\n",
            "TESTING:\n",
            "Accuracy of the network on the 10000 test images: 42.49 %\n",
            "Average loss on the 10000 test images: 1.608\n",
            "[9,   100] loss: 1.668 acc: 40.29 time: 7.45\n",
            "[9,   200] loss: 1.662 acc: 40.32 time: 8.97\n",
            "[9,   300] loss: 1.657 acc: 39.98 time: 8.56\n",
            "TESTING:\n",
            "Accuracy of the network on the 10000 test images: 43.08 %\n",
            "Average loss on the 10000 test images: 1.574\n",
            "[10,   100] loss: 1.650 acc: 40.98 time: 8.99\n",
            "[10,   200] loss: 1.653 acc: 40.35 time: 8.44\n",
            "[10,   300] loss: 1.642 acc: 41.53 time: 7.59\n",
            "TESTING:\n",
            "Accuracy of the network on the 10000 test images: 42.98 %\n",
            "Average loss on the 10000 test images: 1.572\n",
            "[11,   100] loss: 1.623 acc: 41.80 time: 8.69\n",
            "[11,   200] loss: 1.615 acc: 41.77 time: 7.30\n",
            "[11,   300] loss: 1.619 acc: 41.60 time: 8.56\n",
            "TESTING:\n",
            "Accuracy of the network on the 10000 test images: 44.48 %\n",
            "Average loss on the 10000 test images: 1.541\n",
            "[12,   100] loss: 1.588 acc: 42.78 time: 7.76\n",
            "[12,   200] loss: 1.599 acc: 42.29 time: 8.70\n",
            "[12,   300] loss: 1.585 acc: 43.07 time: 6.99\n",
            "TESTING:\n",
            "Accuracy of the network on the 10000 test images: 45.14 %\n",
            "Average loss on the 10000 test images: 1.529\n",
            "[13,   100] loss: 1.595 acc: 42.29 time: 8.84\n",
            "[13,   200] loss: 1.591 acc: 42.73 time: 6.89\n",
            "[13,   300] loss: 1.576 acc: 43.34 time: 8.79\n",
            "TESTING:\n",
            "Accuracy of the network on the 10000 test images: 45.17 %\n",
            "Average loss on the 10000 test images: 1.524\n",
            "[14,   100] loss: 1.568 acc: 43.43 time: 7.29\n",
            "[14,   200] loss: 1.567 acc: 43.94 time: 8.68\n",
            "[14,   300] loss: 1.583 acc: 43.01 time: 7.09\n",
            "TESTING:\n",
            "Accuracy of the network on the 10000 test images: 45.23 %\n",
            "Average loss on the 10000 test images: 1.520\n",
            "[15,   100] loss: 1.580 acc: 43.59 time: 8.85\n",
            "[15,   200] loss: 1.557 acc: 44.09 time: 6.97\n",
            "[15,   300] loss: 1.567 acc: 43.80 time: 8.60\n",
            "TESTING:\n",
            "Accuracy of the network on the 10000 test images: 45.30 %\n",
            "Average loss on the 10000 test images: 1.519\n",
            "[16,   100] loss: 1.560 acc: 44.08 time: 7.26\n",
            "[16,   200] loss: 1.577 acc: 43.04 time: 8.70\n",
            "[16,   300] loss: 1.558 acc: 43.92 time: 7.00\n",
            "TESTING:\n",
            "Accuracy of the network on the 10000 test images: 45.23 %\n",
            "Average loss on the 10000 test images: 1.514\n",
            "[17,   100] loss: 1.577 acc: 43.82 time: 8.99\n",
            "[17,   200] loss: 1.575 acc: 43.93 time: 6.99\n",
            "[17,   300] loss: 1.545 acc: 44.21 time: 8.61\n",
            "TESTING:\n",
            "Accuracy of the network on the 10000 test images: 45.82 %\n",
            "Average loss on the 10000 test images: 1.514\n",
            "[18,   100] loss: 1.555 acc: 43.77 time: 7.18\n",
            "[18,   200] loss: 1.559 acc: 44.47 time: 8.71\n",
            "[18,   300] loss: 1.557 acc: 44.19 time: 7.09\n",
            "TESTING:\n",
            "Accuracy of the network on the 10000 test images: 45.86 %\n",
            "Average loss on the 10000 test images: 1.510\n",
            "[19,   100] loss: 1.556 acc: 43.67 time: 8.91\n",
            "[19,   200] loss: 1.561 acc: 43.99 time: 7.15\n",
            "[19,   300] loss: 1.558 acc: 44.12 time: 8.73\n",
            "TESTING:\n",
            "Accuracy of the network on the 10000 test images: 46.14 %\n",
            "Average loss on the 10000 test images: 1.508\n",
            "[20,   100] loss: 1.552 acc: 44.03 time: 7.11\n",
            "[20,   200] loss: 1.544 acc: 44.70 time: 8.55\n",
            "[20,   300] loss: 1.550 acc: 44.35 time: 7.16\n",
            "TESTING:\n",
            "Accuracy of the network on the 10000 test images: 45.74 %\n",
            "Average loss on the 10000 test images: 1.507\n",
            "Finished Training\n"
          ]
        }
      ]
    },
    {
      "cell_type": "markdown",
      "source": [
        "##Supervised training on the pre-trained model\n",
        "In this section, we will load the pre-trained ResNet18 model and re-train the whole model on the classification task."
      ],
      "metadata": {
        "id": "WcN54tcNN15U"
      }
    },
    {
      "cell_type": "code",
      "source": [
        "import torch.nn as nn\n",
        "import torch.nn.functional as F\n",
        "\n",
        "from torchvision.models import resnet18\n",
        "\n",
        "# TODO: Load the pre-trained ResNet18 model\n",
        "saved_state_dict = torch.load('/content/drive/MyDrive/assignment3_starter/resnet18_weights')\n",
        "loaded_net2 = resnet18(num_classes=4)\n",
        "loaded_net2.load_state_dict(saved_state_dict)\n",
        "loaded_net2 = loaded_net2.to(device)\n",
        "run_test(loaded_net2, testloader, criterion, 'rotation')  # Verification, should give ~78% accuracy\n",
        "# we also need to change no of outputs for the image label classification task\n",
        "# to do this, reference : https://discuss.pytorch.org/t/how-to-reshape-last-layer-of-pytorch-cnn-model-while-doing-transfer-learning/62681/2 \n",
        "old_input_features = loaded_net2.fc.in_features\n",
        "loaded_net2.fc = nn.Linear(old_input_features, 10)\n",
        "loaded_net2 = loaded_net2.to(device) # this is necessary after replacing the fc layer"
      ],
      "metadata": {
        "id": "9xR9h_S1N6Xi",
        "colab": {
          "base_uri": "https://localhost:8080/"
        },
        "outputId": "4bf4281a-248a-4505-97ea-a498df36a8b5"
      },
      "execution_count": null,
      "outputs": [
        {
          "output_type": "stream",
          "name": "stdout",
          "text": [
            "TESTING:\n",
            "Accuracy of the network on the 10000 test images: 77.51 %\n",
            "Average loss on the 10000 test images: 0.580\n"
          ]
        }
      ]
    },
    {
      "cell_type": "code",
      "source": [
        "# TODO: Define criterion and optimizer\n",
        "criterion = nn.CrossEntropyLoss()\n",
        "optimizer = optim.Adam(loaded_net2.parameters(), lr = 0.01)"
      ],
      "metadata": {
        "id": "gGozc2cM0ADw"
      },
      "execution_count": null,
      "outputs": []
    },
    {
      "cell_type": "code",
      "source": [
        "train(loaded_net2, criterion, optimizer, num_epochs=20, decay_epochs=10, init_lr=0.01, task='classification')\n",
        "torch.save(loaded_net2.state_dict(), '/content/drive/MyDrive/assignment3_starter/pretrained_resnet18_all_layers_fine_tuned_weights')"
      ],
      "metadata": {
        "id": "JGWW7gzCz_Bu",
        "colab": {
          "base_uri": "https://localhost:8080/"
        },
        "outputId": "c57f1ffa-43cc-497f-d3b8-82aab6caae37"
      },
      "execution_count": null,
      "outputs": [
        {
          "output_type": "stream",
          "name": "stdout",
          "text": [
            "[1,   100] loss: 1.505 acc: 44.24 time: 8.32\n",
            "[1,   200] loss: 1.187 acc: 57.09 time: 9.08\n",
            "[1,   300] loss: 1.092 acc: 60.86 time: 9.18\n",
            "TESTING:\n",
            "Accuracy of the network on the 10000 test images: 65.27 %\n",
            "Average loss on the 10000 test images: 0.993\n",
            "[2,   100] loss: 0.967 acc: 65.86 time: 8.78\n",
            "[2,   200] loss: 0.936 acc: 67.20 time: 9.41\n",
            "[2,   300] loss: 0.892 acc: 68.82 time: 7.82\n",
            "TESTING:\n",
            "Accuracy of the network on the 10000 test images: 70.45 %\n",
            "Average loss on the 10000 test images: 0.843\n",
            "[3,   100] loss: 0.841 acc: 70.69 time: 9.85\n",
            "[3,   200] loss: 0.829 acc: 71.28 time: 8.33\n",
            "[3,   300] loss: 0.809 acc: 72.00 time: 8.99\n",
            "TESTING:\n",
            "Accuracy of the network on the 10000 test images: 71.05 %\n",
            "Average loss on the 10000 test images: 0.852\n",
            "[4,   100] loss: 0.760 acc: 73.54 time: 9.73\n",
            "[4,   200] loss: 0.753 acc: 73.46 time: 7.65\n",
            "[4,   300] loss: 0.739 acc: 74.45 time: 9.50\n",
            "TESTING:\n",
            "Accuracy of the network on the 10000 test images: 73.14 %\n",
            "Average loss on the 10000 test images: 0.770\n",
            "[5,   100] loss: 0.690 acc: 75.73 time: 8.05\n",
            "[5,   200] loss: 0.711 acc: 75.78 time: 10.02\n",
            "[5,   300] loss: 0.691 acc: 76.52 time: 9.79\n",
            "TESTING:\n",
            "Accuracy of the network on the 10000 test images: 75.40 %\n",
            "Average loss on the 10000 test images: 0.712\n",
            "[6,   100] loss: 0.672 acc: 76.90 time: 8.42\n",
            "[6,   200] loss: 0.667 acc: 76.66 time: 9.47\n",
            "[6,   300] loss: 0.660 acc: 77.70 time: 8.55\n",
            "TESTING:\n",
            "Accuracy of the network on the 10000 test images: 76.88 %\n",
            "Average loss on the 10000 test images: 0.680\n",
            "[7,   100] loss: 0.616 acc: 79.09 time: 9.98\n",
            "[7,   200] loss: 0.620 acc: 78.78 time: 9.43\n",
            "[7,   300] loss: 0.632 acc: 77.96 time: 7.76\n",
            "TESTING:\n",
            "Accuracy of the network on the 10000 test images: 77.07 %\n",
            "Average loss on the 10000 test images: 0.667\n",
            "[8,   100] loss: 0.606 acc: 78.90 time: 9.65\n",
            "[8,   200] loss: 0.587 acc: 79.80 time: 8.22\n",
            "[8,   300] loss: 0.602 acc: 79.44 time: 9.28\n",
            "TESTING:\n",
            "Accuracy of the network on the 10000 test images: 78.17 %\n",
            "Average loss on the 10000 test images: 0.622\n",
            "[9,   100] loss: 0.567 acc: 80.32 time: 9.54\n",
            "[9,   200] loss: 0.569 acc: 80.41 time: 8.19\n",
            "[9,   300] loss: 0.563 acc: 80.96 time: 9.30\n",
            "TESTING:\n",
            "Accuracy of the network on the 10000 test images: 78.82 %\n",
            "Average loss on the 10000 test images: 0.603\n",
            "[10,   100] loss: 0.548 acc: 81.41 time: 8.13\n",
            "[10,   200] loss: 0.542 acc: 81.39 time: 9.35\n",
            "[10,   300] loss: 0.566 acc: 80.46 time: 9.16\n",
            "TESTING:\n",
            "Accuracy of the network on the 10000 test images: 79.63 %\n",
            "Average loss on the 10000 test images: 0.598\n",
            "[11,   100] loss: 0.476 acc: 83.55 time: 9.05\n",
            "[11,   200] loss: 0.456 acc: 84.39 time: 9.94\n",
            "[11,   300] loss: 0.443 acc: 84.59 time: 8.46\n",
            "TESTING:\n",
            "Accuracy of the network on the 10000 test images: 82.46 %\n",
            "Average loss on the 10000 test images: 0.502\n",
            "[12,   100] loss: 0.426 acc: 84.98 time: 9.83\n",
            "[12,   200] loss: 0.421 acc: 85.28 time: 9.70\n",
            "[12,   300] loss: 0.429 acc: 85.20 time: 7.86\n",
            "TESTING:\n",
            "Accuracy of the network on the 10000 test images: 82.70 %\n",
            "Average loss on the 10000 test images: 0.501\n",
            "[13,   100] loss: 0.417 acc: 85.52 time: 9.71\n",
            "[13,   200] loss: 0.410 acc: 85.78 time: 7.73\n",
            "[13,   300] loss: 0.413 acc: 85.90 time: 9.54\n",
            "TESTING:\n",
            "Accuracy of the network on the 10000 test images: 83.27 %\n",
            "Average loss on the 10000 test images: 0.492\n",
            "[14,   100] loss: 0.407 acc: 86.25 time: 9.12\n",
            "[14,   200] loss: 0.398 acc: 86.34 time: 8.41\n",
            "[14,   300] loss: 0.396 acc: 86.31 time: 9.68\n",
            "TESTING:\n",
            "Accuracy of the network on the 10000 test images: 83.24 %\n",
            "Average loss on the 10000 test images: 0.487\n",
            "[15,   100] loss: 0.392 acc: 86.25 time: 8.14\n",
            "[15,   200] loss: 0.386 acc: 86.59 time: 9.44\n",
            "[15,   300] loss: 0.390 acc: 86.32 time: 9.00\n",
            "TESTING:\n",
            "Accuracy of the network on the 10000 test images: 83.39 %\n",
            "Average loss on the 10000 test images: 0.483\n",
            "[16,   100] loss: 0.389 acc: 86.52 time: 9.25\n",
            "[16,   200] loss: 0.386 acc: 86.68 time: 9.56\n",
            "[16,   300] loss: 0.381 acc: 86.62 time: 7.84\n",
            "TESTING:\n",
            "Accuracy of the network on the 10000 test images: 83.41 %\n",
            "Average loss on the 10000 test images: 0.488\n",
            "[17,   100] loss: 0.385 acc: 86.64 time: 9.90\n",
            "[17,   200] loss: 0.381 acc: 87.02 time: 9.06\n",
            "[17,   300] loss: 0.374 acc: 86.88 time: 8.84\n",
            "TESTING:\n",
            "Accuracy of the network on the 10000 test images: 83.56 %\n",
            "Average loss on the 10000 test images: 0.484\n",
            "[18,   100] loss: 0.365 acc: 87.26 time: 9.99\n",
            "[18,   200] loss: 0.379 acc: 86.43 time: 8.11\n",
            "[18,   300] loss: 0.368 acc: 87.14 time: 9.88\n",
            "TESTING:\n",
            "Accuracy of the network on the 10000 test images: 83.69 %\n",
            "Average loss on the 10000 test images: 0.482\n",
            "[19,   100] loss: 0.362 acc: 87.58 time: 9.45\n",
            "[19,   200] loss: 0.369 acc: 87.12 time: 8.74\n",
            "[19,   300] loss: 0.366 acc: 87.17 time: 9.77\n",
            "TESTING:\n",
            "Accuracy of the network on the 10000 test images: 83.67 %\n",
            "Average loss on the 10000 test images: 0.487\n",
            "[20,   100] loss: 0.371 acc: 86.89 time: 8.34\n",
            "[20,   200] loss: 0.362 acc: 87.79 time: 9.57\n",
            "[20,   300] loss: 0.358 acc: 87.22 time: 9.75\n",
            "TESTING:\n",
            "Accuracy of the network on the 10000 test images: 83.84 %\n",
            "Average loss on the 10000 test images: 0.486\n",
            "Finished Training\n"
          ]
        }
      ]
    },
    {
      "cell_type": "markdown",
      "source": [
        "##Supervised training on the randomly initialized model\n",
        "In this section, we will randomly initialize a ResNet18 model and re-train the whole model on the classification task."
      ],
      "metadata": {
        "id": "xjVTp9jhefTi"
      }
    },
    {
      "cell_type": "code",
      "source": [
        "import torch.nn as nn\n",
        "import torch.nn.functional as F\n",
        "\n",
        "from torchvision.models import resnet18\n",
        "\n",
        "# TODO: Randomly initialize a ResNet18 model\n",
        "r_init_net2 = resnet18(num_classes = 10).to(device)"
      ],
      "metadata": {
        "id": "uEjy8TBieeLK"
      },
      "execution_count": null,
      "outputs": []
    },
    {
      "cell_type": "code",
      "source": [
        "# TODO: Define criterion and optimizer\n",
        "criterion = nn.CrossEntropyLoss()\n",
        "optimizer = optim.Adam(r_init_net2.parameters(), lr = 0.01)"
      ],
      "metadata": {
        "id": "jEY90pK_0ZAm"
      },
      "execution_count": null,
      "outputs": []
    },
    {
      "cell_type": "code",
      "source": [
        "train(r_init_net2, criterion, optimizer, num_epochs=20, decay_epochs=10, init_lr=0.01, task='classification')\n",
        "torch.save(r_init_net2.state_dict(), '/content/drive/MyDrive/assignment3_starter/random_init_resnet18_all_layers_fine_tuned_weights')"
      ],
      "metadata": {
        "id": "lMDwelhY0auO",
        "colab": {
          "base_uri": "https://localhost:8080/"
        },
        "outputId": "baed5afa-c600-4534-d1eb-ccc572bea982"
      },
      "execution_count": null,
      "outputs": [
        {
          "output_type": "stream",
          "name": "stdout",
          "text": [
            "[1,   100] loss: 2.264 acc: 23.05 time: 8.18\n",
            "[1,   200] loss: 1.839 acc: 33.50 time: 9.64\n",
            "[1,   300] loss: 1.701 acc: 37.37 time: 8.52\n",
            "TESTING:\n",
            "Accuracy of the network on the 10000 test images: 43.12 %\n",
            "Average loss on the 10000 test images: 1.526\n",
            "[2,   100] loss: 1.519 acc: 44.71 time: 9.69\n",
            "[2,   200] loss: 1.463 acc: 46.56 time: 9.60\n",
            "[2,   300] loss: 1.381 acc: 49.24 time: 7.74\n",
            "TESTING:\n",
            "Accuracy of the network on the 10000 test images: 55.95 %\n",
            "Average loss on the 10000 test images: 1.221\n",
            "[3,   100] loss: 1.244 acc: 54.89 time: 9.91\n",
            "[3,   200] loss: 1.214 acc: 55.91 time: 8.21\n",
            "[3,   300] loss: 1.164 acc: 58.23 time: 9.54\n",
            "TESTING:\n",
            "Accuracy of the network on the 10000 test images: 59.71 %\n",
            "Average loss on the 10000 test images: 1.124\n",
            "[4,   100] loss: 1.065 acc: 62.44 time: 9.34\n",
            "[4,   200] loss: 1.058 acc: 62.61 time: 8.18\n",
            "[4,   300] loss: 1.012 acc: 63.58 time: 9.56\n",
            "TESTING:\n",
            "Accuracy of the network on the 10000 test images: 65.24 %\n",
            "Average loss on the 10000 test images: 0.998\n",
            "[5,   100] loss: 0.964 acc: 66.12 time: 8.18\n",
            "[5,   200] loss: 0.940 acc: 66.67 time: 9.74\n",
            "[5,   300] loss: 0.949 acc: 66.38 time: 9.71\n",
            "TESTING:\n",
            "Accuracy of the network on the 10000 test images: 67.99 %\n",
            "Average loss on the 10000 test images: 0.904\n",
            "[6,   100] loss: 0.885 acc: 69.06 time: 8.76\n",
            "[6,   200] loss: 0.876 acc: 69.28 time: 10.12\n",
            "[6,   300] loss: 0.872 acc: 69.40 time: 8.75\n",
            "TESTING:\n",
            "Accuracy of the network on the 10000 test images: 72.72 %\n",
            "Average loss on the 10000 test images: 0.789\n",
            "[7,   100] loss: 0.826 acc: 71.12 time: 9.96\n",
            "[7,   200] loss: 0.829 acc: 71.20 time: 9.74\n",
            "[7,   300] loss: 0.796 acc: 72.39 time: 8.05\n",
            "TESTING:\n",
            "Accuracy of the network on the 10000 test images: 73.03 %\n",
            "Average loss on the 10000 test images: 0.776\n",
            "[8,   100] loss: 0.771 acc: 72.88 time: 9.96\n",
            "[8,   200] loss: 0.769 acc: 73.00 time: 8.69\n",
            "[8,   300] loss: 0.754 acc: 73.96 time: 9.03\n",
            "TESTING:\n",
            "Accuracy of the network on the 10000 test images: 73.77 %\n",
            "Average loss on the 10000 test images: 0.762\n",
            "[9,   100] loss: 0.722 acc: 74.96 time: 9.99\n",
            "[9,   200] loss: 0.740 acc: 74.16 time: 8.13\n",
            "[9,   300] loss: 0.719 acc: 75.21 time: 9.59\n",
            "TESTING:\n",
            "Accuracy of the network on the 10000 test images: 75.44 %\n",
            "Average loss on the 10000 test images: 0.705\n",
            "[10,   100] loss: 0.679 acc: 76.41 time: 8.82\n",
            "[10,   200] loss: 0.692 acc: 76.38 time: 8.90\n",
            "[10,   300] loss: 0.679 acc: 76.37 time: 9.64\n",
            "TESTING:\n",
            "Accuracy of the network on the 10000 test images: 75.73 %\n",
            "Average loss on the 10000 test images: 0.709\n",
            "[11,   100] loss: 0.604 acc: 78.76 time: 8.10\n",
            "[11,   200] loss: 0.558 acc: 80.36 time: 9.78\n",
            "[11,   300] loss: 0.539 acc: 81.31 time: 9.03\n",
            "TESTING:\n",
            "Accuracy of the network on the 10000 test images: 80.26 %\n",
            "Average loss on the 10000 test images: 0.574\n",
            "[12,   100] loss: 0.533 acc: 81.58 time: 9.49\n",
            "[12,   200] loss: 0.519 acc: 81.93 time: 9.71\n",
            "[12,   300] loss: 0.521 acc: 82.09 time: 7.95\n",
            "TESTING:\n",
            "Accuracy of the network on the 10000 test images: 80.86 %\n",
            "Average loss on the 10000 test images: 0.557\n",
            "[13,   100] loss: 0.510 acc: 82.12 time: 10.08\n",
            "[13,   200] loss: 0.510 acc: 82.43 time: 8.97\n",
            "[13,   300] loss: 0.501 acc: 82.55 time: 9.11\n",
            "TESTING:\n",
            "Accuracy of the network on the 10000 test images: 81.17 %\n",
            "Average loss on the 10000 test images: 0.551\n",
            "[14,   100] loss: 0.489 acc: 83.19 time: 9.86\n",
            "[14,   200] loss: 0.485 acc: 83.12 time: 7.90\n",
            "[14,   300] loss: 0.491 acc: 83.02 time: 9.52\n",
            "TESTING:\n",
            "Accuracy of the network on the 10000 test images: 81.24 %\n",
            "Average loss on the 10000 test images: 0.551\n",
            "[15,   100] loss: 0.478 acc: 83.09 time: 9.65\n",
            "[15,   200] loss: 0.481 acc: 82.93 time: 8.54\n",
            "[15,   300] loss: 0.469 acc: 83.98 time: 9.68\n",
            "TESTING:\n",
            "Accuracy of the network on the 10000 test images: 80.84 %\n",
            "Average loss on the 10000 test images: 0.558\n",
            "[16,   100] loss: 0.459 acc: 84.25 time: 8.40\n",
            "[16,   200] loss: 0.465 acc: 83.49 time: 9.34\n",
            "[16,   300] loss: 0.465 acc: 83.54 time: 9.60\n",
            "TESTING:\n",
            "Accuracy of the network on the 10000 test images: 81.32 %\n",
            "Average loss on the 10000 test images: 0.536\n",
            "[17,   100] loss: 0.446 acc: 84.29 time: 8.11\n",
            "[17,   200] loss: 0.456 acc: 84.40 time: 9.86\n",
            "[17,   300] loss: 0.460 acc: 84.41 time: 8.74\n",
            "TESTING:\n",
            "Accuracy of the network on the 10000 test images: 81.37 %\n",
            "Average loss on the 10000 test images: 0.539\n",
            "[18,   100] loss: 0.451 acc: 84.20 time: 9.68\n",
            "[18,   200] loss: 0.448 acc: 84.34 time: 9.79\n",
            "[18,   300] loss: 0.443 acc: 84.67 time: 8.08\n",
            "TESTING:\n",
            "Accuracy of the network on the 10000 test images: 81.76 %\n",
            "Average loss on the 10000 test images: 0.536\n",
            "[19,   100] loss: 0.443 acc: 84.91 time: 9.67\n",
            "[19,   200] loss: 0.445 acc: 84.26 time: 8.57\n",
            "[19,   300] loss: 0.436 acc: 84.88 time: 8.86\n",
            "TESTING:\n",
            "Accuracy of the network on the 10000 test images: 81.52 %\n",
            "Average loss on the 10000 test images: 0.538\n",
            "[20,   100] loss: 0.419 acc: 85.16 time: 9.46\n",
            "[20,   200] loss: 0.437 acc: 84.84 time: 7.59\n",
            "[20,   300] loss: 0.434 acc: 84.89 time: 9.21\n",
            "TESTING:\n",
            "Accuracy of the network on the 10000 test images: 82.21 %\n",
            "Average loss on the 10000 test images: 0.527\n",
            "Finished Training\n"
          ]
        }
      ]
    }
  ]
}